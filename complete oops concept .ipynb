{
 "cells": [
  {
   "cell_type": "markdown",
   "metadata": {},
   "source": [
    "<a href=\"https://www.viharatech.com\"><img src=\"https://miro.medium.com/v2/resize:fit:828/format:webp/1*on2Bpj6A5gfd-CzaFOAZRA.jpeg\"></a>\n",
    "\n",
    "# Python Oops concepts "
   ]
  },
  {
   "cell_type": "raw",
   "metadata": {},
   "source": [
    "Python OOPs Concepts\n",
    "-----------------------------------\n",
    "Like other general-purpose programming languages, Python is also an object-oriented language since its beginning. It allows us to develop applications using an Object-Oriented approach. In Python, we can easily create and use classes and objects.\n",
    "\n",
    "An object-oriented paradigm is to design the program using classes and objects. The object is related to real-word entities such as book, house, pencil, etc. The oops concept focuses on writing the reusable code. It is a widespread technique to solve the problem by creating objects.\n",
    "\n",
    "Major principles of object-oriented programming system are given below.\n",
    "\n",
    "Class\n",
    "Object\n",
    "Method\n",
    "Inheritance\n",
    "Polymorphism\n",
    "Data Abstraction\n",
    "Encapsulation"
   ]
  },
  {
   "cell_type": "raw",
   "metadata": {},
   "source": [
    "Class\n",
    "-------\n",
    "The class can be defined as a collection of objects. It is a logical entity that has some specific attributes and methods. For example: if you have an employee class, then it should contain an attribute and method, i.e. an email id, name, age, salary, etc.\n",
    "\n",
    "Syntax\n",
    "\n",
    "class ClassName:     \n",
    "        <statement-1>     \n",
    "        .     \n",
    "        .      \n",
    "        <statement-N>     "
   ]
  },
  {
   "cell_type": "raw",
   "metadata": {},
   "source": [
    "Object\n",
    "-------------------\n",
    "The object is an entity that has state and behavior. It may be any real-world object like the mouse, keyboard, chair, table, pen, etc.\n",
    "\n",
    "Everything in Python is an object, and almost everything has attributes and methods. All functions have a built-in attribute __doc__, which returns the docstring defined in the function source code.\n",
    "\n",
    "When we define a class, it needs to create an object to allocate the memory. Consider the following example.\n",
    "\n",
    "Example:\n",
    "\n",
    "class car:  \n",
    "    def __init__(self,modelname, year):  \n",
    "        self.modelname = modelname  \n",
    "        self.year = year  \n",
    "    def display(self):  \n",
    "        print(self.modelname,self.year)  \n",
    "  \n",
    "c1 = car(\"Toyota\", 2016)  \n",
    "c1.display()  "
   ]
  },
  {
   "cell_type": "raw",
   "metadata": {},
   "source": [
    "Method\n",
    "---------------------\n",
    "The method is a function that is associated with an object. In Python, a method is not unique to class instances. Any object type can have methods.\n",
    "\n",
    "Inheritance\n",
    "-----------------------------------\n",
    "Inheritance is the most important aspect of object-oriented programming, which simulates the real-world concept of inheritance. It specifies that the child object acquires all the properties and behaviors of the parent object.\n",
    "\n",
    "By using inheritance, we can create a class which uses all the properties and behavior of another class. The new class is known as a derived class or child class, and the one whose properties are acquired is known as a base class or parent class.\n",
    "\n",
    "It provides the re-usability of the code.\n",
    "\n",
    "Polymorphism\n",
    "------------------------------------\n",
    "Polymorphism contains two words \"poly\" and \"morphs\". Poly means many, and morph means shape. By polymorphism, we understand that one task can be performed in different ways. For example - you have a class animal, and all animals speak. But they speak differently. Here, the \"speak\" behavior is polymorphic in a sense and depends on the animal. So, the abstract \"animal\" concept does not actually \"speak\", but specific animals (like dogs and cats) have a concrete implementation of the action \"speak\".\n",
    "\n",
    "Encapsulation\n",
    "-------------------------------\n",
    "Encapsulation is also an essential aspect of object-oriented programming. It is used to restrict access to methods and variables. In encapsulation, code and data are wrapped together within a single unit from being modified by accident.\n",
    "\n",
    "Data Abstraction\n",
    "---------------------------------------------------\n",
    "Data abstraction and encapsulation both are often used as synonyms. Both are nearly synonyms because data abstraction is achieved through encapsulation.\n",
    "\n",
    "Abstraction is used to hide internal details and show only functionalities. Abstracting something means to give names to things so that the name captures the core of what a function or a whole program does."
   ]
  },
  {
   "cell_type": "raw",
   "metadata": {},
   "source": [
    "Object-oriented vs. Procedure-oriented Programming languages\n",
    "------------------------------------------------------------------------------------------\n",
    "The difference between object-oriented and procedure-oriented programming is given below:\n",
    "\n",
    "Index\tObject-oriented Programming\tProcedural Programming\n",
    "\n",
    "1.\tObject-oriented programming is the problem-solving approach and used where computation is done by     using objects.\n",
    "\n",
    "    Procedural programming uses a list of instructions to do computation step by step.\n",
    "\n",
    "\n",
    "2.\tIt makes the development and maintenance easier.\t\n",
    "    \n",
    "    In procedural programming, It is not easy to maintain the codes when the project becomes lengthy.\n",
    "\n",
    "3.\tIt simulates the real world entity. So real-world problems can be easily solved through oops.\t     \n",
    "     It doesn't simulate the real world. It works on step by step instructions divided into small          parts called functions.\n",
    "\n",
    "\n",
    "4.\tIt provides data hiding. So it is more secure than procedural languages. You cannot access           private data from anywhere.\t\n",
    "    \n",
    "    Procedural language doesn't provide any proper way for data binding, so it is less secure.\n",
    "\n",
    "5.\tExample of object-oriented programming languages is C++, Java, .Net, Python, C#, etc.\t\n",
    "    \n",
    "    Example of procedural languages are: C, Fortran, Pascal, VB etc."
   ]
  },
  {
   "cell_type": "raw",
   "metadata": {},
   "source": [
    "Creating classes in Python\n",
    "----------------------------------\n",
    "In Python, a class can be created by using the keyword class, followed by the class name. The syntax to create a class is given below."
   ]
  },
  {
   "cell_type": "raw",
   "metadata": {},
   "source": [
    "class ClassName:    \n",
    "    #statement_suite    "
   ]
  },
  {
   "cell_type": "code",
   "execution_count": 5,
   "metadata": {},
   "outputs": [],
   "source": [
    "class Employee:    \n",
    "    id = 10   \n",
    "    name = \"Devansh\"    \n",
    "    def display (self):    \n",
    "        print(self.id,self.name)    "
   ]
  },
  {
   "cell_type": "code",
   "execution_count": 6,
   "metadata": {},
   "outputs": [
    {
     "name": "stdout",
     "output_type": "stream",
     "text": [
      "ID: 10 \n",
      "Name: John\n"
     ]
    }
   ],
   "source": [
    "class Employee:    \n",
    "    id = 10   \n",
    "    name = \"John\"    \n",
    "    def display (self):    \n",
    "        print(\"ID: %d \\nName: %s\"%(self.id,self.name))    \n",
    "# Creating a emp instance of Employee class  \n",
    "emp = Employee()    \n",
    "emp.display()    "
   ]
  },
  {
   "cell_type": "code",
   "execution_count": 9,
   "metadata": {},
   "outputs": [
    {
     "name": "stdout",
     "output_type": "stream",
     "text": [
      "ID: 10 \n",
      "Name: John\n"
     ]
    }
   ],
   "source": [
    "class Employee:  \n",
    "    id = 10  \n",
    "    name = \"John\"  \n",
    "  \n",
    "    def display(self):  \n",
    "        print(\"ID: %d \\nName: %s\" % (self.id, self.name))  \n",
    "    # Creating a emp instance of Employee class  \n",
    "  \n",
    "emp = Employee()  \n",
    "  \n",
    "# Deleting the property of object  \n",
    "#del emp.id  \n",
    "emp.display()\n",
    "\n",
    "# Deleting the property of object  \n",
    "#del emp.id  \n",
    "# Deleting the object itself  \n",
    "#del emp  \n",
    "#emp.display()  "
   ]
  },
  {
   "cell_type": "code",
   "execution_count": 2,
   "metadata": {},
   "outputs": [
    {
     "ename": "AttributeError",
     "evalue": "'list' object has no attribute 'ndim'",
     "output_type": "error",
     "traceback": [
      "\u001b[1;31m---------------------------------------------------------------------------\u001b[0m",
      "\u001b[1;31mAttributeError\u001b[0m                            Traceback (most recent call last)",
      "\u001b[1;32m<ipython-input-2-ed2951bc8196>\u001b[0m in \u001b[0;36m<module>\u001b[1;34m\u001b[0m\n\u001b[0;32m      1\u001b[0m \u001b[0ma\u001b[0m \u001b[1;33m=\u001b[0m \u001b[1;33m[\u001b[0m\u001b[1;36m1\u001b[0m\u001b[1;33m,\u001b[0m\u001b[1;36m2\u001b[0m\u001b[1;33m,\u001b[0m\u001b[1;36m3\u001b[0m\u001b[1;33m,\u001b[0m\u001b[1;36m4\u001b[0m\u001b[1;33m]\u001b[0m\u001b[1;33m\u001b[0m\u001b[1;33m\u001b[0m\u001b[0m\n\u001b[1;32m----> 2\u001b[1;33m \u001b[0ma\u001b[0m\u001b[1;33m.\u001b[0m\u001b[0mndim\u001b[0m\u001b[1;33m\u001b[0m\u001b[1;33m\u001b[0m\u001b[0m\n\u001b[0m",
      "\u001b[1;31mAttributeError\u001b[0m: 'list' object has no attribute 'ndim'"
     ]
    }
   ],
   "source": [
    "a = [1,2,3,4]\n",
    "a.ndim"
   ]
  },
  {
   "cell_type": "code",
   "execution_count": 3,
   "metadata": {},
   "outputs": [],
   "source": [
    "import numpy as np\n"
   ]
  },
  {
   "cell_type": "code",
   "execution_count": 4,
   "metadata": {},
   "outputs": [
    {
     "data": {
      "text/plain": [
       "1"
      ]
     },
     "execution_count": 4,
     "metadata": {},
     "output_type": "execute_result"
    }
   ],
   "source": [
    "a = np.array([1,2,3,4])\n",
    "a.ndim"
   ]
  },
  {
   "cell_type": "code",
   "execution_count": 11,
   "metadata": {},
   "outputs": [
    {
     "data": {
      "text/plain": [
       "array([[ 1,  2, 32],\n",
       "       [ 4,  5,  6]])"
      ]
     },
     "execution_count": 11,
     "metadata": {},
     "output_type": "execute_result"
    }
   ],
   "source": [
    "a = np.array([[1,2,32] , [4,5,6]])\n",
    "a"
   ]
  },
  {
   "cell_type": "code",
   "execution_count": null,
   "metadata": {},
   "outputs": [],
   "source": []
  }
 ],
 "metadata": {
  "kernelspec": {
   "display_name": "Python 3 (ipykernel)",
   "language": "python",
   "name": "python3"
  },
  "language_info": {
   "codemirror_mode": {
    "name": "ipython",
    "version": 3
   },
   "file_extension": ".py",
   "mimetype": "text/x-python",
   "name": "python",
   "nbconvert_exporter": "python",
   "pygments_lexer": "ipython3",
   "version": "3.9.13"
  }
 },
 "nbformat": 4,
 "nbformat_minor": 2
}
