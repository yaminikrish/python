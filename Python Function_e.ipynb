{
 "cells": [
  {
   "cell_type": "markdown",
   "metadata": {},
   "source": [
    "<a href=\"https://www.viharatech.com\"><img src=\"https://miro.medium.com/v2/resize:fit:828/format:webp/1*on2Bpj6A5gfd-CzaFOAZRA.jpeg\"></a>\n",
    "\n",
    "# Functions \n"
   ]
  },
  {
   "cell_type": "code",
   "execution_count": 1,
   "metadata": {},
   "outputs": [
    {
     "name": "stdout",
     "output_type": "stream",
     "text": [
      "Python\n"
     ]
    }
   ],
   "source": [
    "## without function\n",
    "\n",
    "print(\"Python\")"
   ]
  },
  {
   "cell_type": "code",
   "execution_count": 2,
   "metadata": {},
   "outputs": [
    {
     "name": "stdout",
     "output_type": "stream",
     "text": [
      "Python\n"
     ]
    }
   ],
   "source": [
    "## with function\n",
    "\n",
    "def kamal(): # def is keyword for function and kamal is an function name \n",
    "    print(\"Python\")\n",
    "    \n",
    "    \n",
    "    \n",
    "kamal()"
   ]
  },
  {
   "cell_type": "code",
   "execution_count": 3,
   "metadata": {},
   "outputs": [
    {
     "name": "stdout",
     "output_type": "stream",
     "text": [
      "python\n"
     ]
    }
   ],
   "source": [
    "## with return \n",
    "\n",
    "def kamal():\n",
    "    return 'python'\n",
    "\n",
    "\n",
    "a = kamal()\n",
    "print(a)\n"
   ]
  },
  {
   "cell_type": "code",
   "execution_count": 5,
   "metadata": {},
   "outputs": [
    {
     "name": "stdout",
     "output_type": "stream",
     "text": [
      "python\n",
      "None\n"
     ]
    }
   ],
   "source": [
    "## without function \n",
    "\n",
    "def kamal():\n",
    "    print(\"python\")\n",
    "    \n",
    "a = kamal()  # function calling . \n",
    "print(a)"
   ]
  },
  {
   "cell_type": "code",
   "execution_count": 1,
   "metadata": {},
   "outputs": [
    {
     "name": "stdout",
     "output_type": "stream",
     "text": [
      "Hello\n",
      "You passed: 10\n"
     ]
    }
   ],
   "source": [
    "# function definition\n",
    "def display(x):\n",
    "    print(\"Hello\")\n",
    "    print(\"You passed:\", x)\n",
    "\n",
    "# calling function\n",
    "display(10)"
   ]
  },
  {
   "cell_type": "code",
   "execution_count": 7,
   "metadata": {},
   "outputs": [
    {
     "name": "stdout",
     "output_type": "stream",
     "text": [
      "odd\n"
     ]
    }
   ],
   "source": [
    "# function\n",
    "def is_even(x):  # x = 2\n",
    "    if x%2 == 0:  # 2 % 2 = 0 \n",
    "        print(\"even\")\n",
    "    else:\n",
    "        print(\"odd\")\n",
    " \n",
    "#is_even(2)  # calling function\n",
    "is_even(3)  # calling function"
   ]
  },
  {
   "cell_type": "code",
   "execution_count": 2,
   "metadata": {},
   "outputs": [
    {
     "name": "stdout",
     "output_type": "stream",
     "text": [
      "I am playing with computer\n",
      "Soon I will be master\n",
      "You will play my written game\n",
      "I will get a huge fame\n"
     ]
    }
   ],
   "source": [
    "# function\n",
    "def print_poem():\n",
    "    print(\"I am playing with computer\")\n",
    "    print(\"Soon I will be master\")\n",
    "    print(\"You will play my written game\")\n",
    "    print(\"I will get a huge fame\")\n",
    " \n",
    "print_poem()  # calling function"
   ]
  },
  {
   "cell_type": "code",
   "execution_count": 8,
   "metadata": {},
   "outputs": [
    {
     "name": "stdout",
     "output_type": "stream",
     "text": [
      "Enter first number >>>3\n",
      "Enter second number >>>5\n",
      "8\n"
     ]
    }
   ],
   "source": [
    "def sum():\n",
    "    a = int(input(\"Enter first number >>>\"))\n",
    "    b = int(input(\"Enter second number >>>\"))\n",
    "    print(a+b)\n",
    "\n",
    "sum()"
   ]
  },
  {
   "cell_type": "code",
   "execution_count": 10,
   "metadata": {},
   "outputs": [
    {
     "name": "stdout",
     "output_type": "stream",
     "text": [
      "Enter first number greater than or equal to second number\n"
     ]
    }
   ],
   "source": [
    "#Python Parameters and Arguments\n",
    "def checkdiv(x,y):\n",
    "    if x>=y:\n",
    "        if x%y == 0:\n",
    "            print(x,\"is divisible by\",y)\n",
    "        else:\n",
    "            print(x,\"is not divisible by\",y)\n",
    "    else:\n",
    "        print(\"Enter first number greater than or equal to second number\")\n",
    "\n",
    "#checkdiv(4,2)\n",
    "#checkdiv(4,3)\n",
    "checkdiv(2,4)"
   ]
  },
  {
   "cell_type": "code",
   "execution_count": 11,
   "metadata": {},
   "outputs": [
    {
     "name": "stdout",
     "output_type": "stream",
     "text": [
      "[43, 6, 2, 5, 3, 6, 4, 2]\n"
     ]
    }
   ],
   "source": [
    "def rev(a):\n",
    "    c = []\n",
    "    i = len(a) - 1 #len(a)-1 as index will go to 1 less than length as it starts from 0.\n",
    "    while i >= 0:\n",
    "        c.append(a[i])\n",
    "        i = i - 1\n",
    "    print(c)\n",
    "\n",
    "rev([2, 4, 6, 3, 5, 2, 6, 43])"
   ]
  },
  {
   "cell_type": "code",
   "execution_count": 2,
   "metadata": {},
   "outputs": [
    {
     "name": "stdout",
     "output_type": "stream",
     "text": [
      "[43, 6, 2, 5, 3, 6, 4, 2]\n"
     ]
    }
   ],
   "source": [
    "def rev(a):\n",
    "    c = []\n",
    "    i = len(a) - 1 #len(a)-1 as index will go to 1 less than length as it starts from 0.\n",
    "    while i >= 0:\n",
    "        c.append(a[i])\n",
    "        i = i - 1\n",
    "    return c\n",
    " \n",
    "new_list = rev([2, 4, 6, 3, 5, 2, 6, 43])\n",
    "print(new_list)\n"
   ]
  },
  {
   "cell_type": "code",
   "execution_count": 12,
   "metadata": {},
   "outputs": [
    {
     "name": "stdout",
     "output_type": "stream",
     "text": [
      "False\n"
     ]
    }
   ],
   "source": [
    "def is_even(x):\n",
    "    if x%2 == 0: \n",
    "        return True\n",
    "    else:\n",
    "        return False\n",
    "\n",
    "print(is_even(1))\n",
    "#print(is_even(2))"
   ]
  },
  {
   "cell_type": "code",
   "execution_count": 12,
   "metadata": {},
   "outputs": [
    {
     "name": "stdout",
     "output_type": "stream",
     "text": [
      "Sum: 30 Product: 200\n"
     ]
    }
   ],
   "source": [
    "#Returning Multiple Values from a Python Function\n",
    "def calculation(num1, num2):\n",
    "    result1 = num1 + num2 # 10 , 20\n",
    "    result2 = num1 * num2\n",
    "    return result1, result2\n",
    "\n",
    "sum, product = calculation(10, 20)\n",
    "print(\"Sum:\", sum, \"Product:\", product)"
   ]
  },
  {
   "cell_type": "code",
   "execution_count": 13,
   "metadata": {},
   "outputs": [
    {
     "name": "stdout",
     "output_type": "stream",
     "text": [
      "Sum: 30 Product: 200\n"
     ]
    }
   ],
   "source": [
    "def calculation(num1, num2):\n",
    "    return (num1 + num2), (num1 * num2)\n",
    "\n",
    "sum, product = calculation(10, 20)\n",
    "print(\"Sum:\", sum, \"Product:\", product)"
   ]
  },
  {
   "cell_type": "code",
   "execution_count": 9,
   "metadata": {},
   "outputs": [
    {
     "name": "stdout",
     "output_type": "stream",
     "text": [
      "True\n"
     ]
    }
   ],
   "source": [
    "#Calling a function inside another function\n",
    "def is_even(x):\n",
    "    if x%2 == 0:\n",
    "        return True\n",
    "    else:\n",
    "        return False\n",
    "# div function to check divisibility \n",
    "def div(y):\n",
    "    if is_even(y) and y%3 == 0:\n",
    "        return True\n",
    "    else:\n",
    "        return False\n",
    "\n",
    "print(div(6))  # calling div function"
   ]
  },
  {
   "cell_type": "code",
   "execution_count": 3,
   "metadata": {},
   "outputs": [
    {
     "name": "stdout",
     "output_type": "stream",
     "text": [
      "24\n"
     ]
    }
   ],
   "source": [
    "#Python Recursion\n",
    "def fun(x): # X = 4 \n",
    "    if x==0 or x==1: # or means atleast one condition should be true # And means both should be True \n",
    "        return 1\n",
    "    else:\n",
    "        return x*fun(x-1) # 4 * 3 # factorial means factorila of 5 = 5 * 4 * 3 * 2 * 1 = 120 :\n",
    " \n",
    "#print(factorial(0))\n",
    "#print(factorial(1))\n",
    "print(fun(4))\n",
    "#print(factorial(5))\n",
    "#print(factorial(10))"
   ]
  },
  {
   "cell_type": "code",
   "execution_count": 31,
   "metadata": {},
   "outputs": [
    {
     "name": "stdout",
     "output_type": "stream",
     "text": [
      "My name is ashu and my age is 28\n"
     ]
    }
   ],
   "source": [
    "#Python Fixed Variable Argument\n",
    "#Python Positional Arguments\n",
    "def display(name, age):\n",
    "    print(\"My name is\", name, \"and my age is\", age)\n",
    "\n",
    "display(\"ashu\", 28)"
   ]
  },
  {
   "cell_type": "code",
   "execution_count": 6,
   "metadata": {},
   "outputs": [
    {
     "name": "stdout",
     "output_type": "stream",
     "text": [
      "My name is Jashu and my age is 12\n"
     ]
    }
   ],
   "source": [
    "def display(name, age=12):\n",
    "    print(\"My name is\", name, \"and my age is\", age)\n",
    "\n",
    "display(\"Jashu\")"
   ]
  },
  {
   "cell_type": "code",
   "execution_count": 33,
   "metadata": {},
   "outputs": [
    {
     "name": "stdout",
     "output_type": "stream",
     "text": [
      "My name is ashu and my age is 28\n"
     ]
    }
   ],
   "source": [
    "#Python Keyword Arguments\n",
    "def display(name, age):\n",
    "    print(\"My name is\", name, \"and my age is\", age)\n",
    "\n",
    "display(name = \"ashu\", age = 28)"
   ]
  },
  {
   "cell_type": "code",
   "execution_count": 7,
   "metadata": {},
   "outputs": [
    {
     "name": "stdout",
     "output_type": "stream",
     "text": [
      "My name is ashu and my age is 45\n"
     ]
    }
   ],
   "source": [
    "def display(name, age):\n",
    "    print(\"My name is\", name, \"and my age is\", age)\n",
    "\n",
    "display(age = 45,name = \"ashu\")"
   ]
  },
  {
   "cell_type": "code",
   "execution_count": 13,
   "metadata": {},
   "outputs": [
    {
     "name": "stdout",
     "output_type": "stream",
     "text": [
      "My name is 45 and my age is ashu\n"
     ]
    }
   ],
   "source": [
    "def display(name, age):\n",
    "    print(\"My name is\", name, \"and my age is\", age)\n",
    "\n",
    "display(45,\"ashu\")"
   ]
  },
  {
   "cell_type": "code",
   "execution_count": 10,
   "metadata": {},
   "outputs": [
    {
     "name": "stdout",
     "output_type": "stream",
     "text": [
      "My name is ashu my age is 45 and I live in Mysore\n"
     ]
    }
   ],
   "source": [
    "def display(name, age, country):\n",
    "    print(\"My name is\", name, \"my age is\", age, \"and I live in\", country)\n",
    "\n",
    "display(\"ashu\", 45,\"Mysore\")"
   ]
  },
  {
   "cell_type": "code",
   "execution_count": 11,
   "metadata": {},
   "outputs": [
    {
     "name": "stdout",
     "output_type": "stream",
     "text": [
      "My name is ashu my age is 25 and I live in Mysore\n"
     ]
    }
   ],
   "source": [
    "def display(name, age, country):\n",
    "    print(\"My name is\", name, \"my age is\", age, \"and I live in\", country)\n",
    "\n",
    "display(name = \"ashu\", country = \"Mysore\", age =  25)"
   ]
  },
  {
   "cell_type": "code",
   "execution_count": 17,
   "metadata": {},
   "outputs": [
    {
     "name": "stdout",
     "output_type": "stream",
     "text": [
      "My name is xyz\n",
      "My name is kamal\n"
     ]
    }
   ],
   "source": [
    "#Python Variable Arguments\n",
    "#Python Default Arguments\n",
    "def display(name = \"xyz\"):\n",
    "    print(\"My name is\", name)\n",
    "\n",
    "display()\n",
    "display(\"kamal\")"
   ]
  },
  {
   "cell_type": "code",
   "execution_count": 18,
   "metadata": {},
   "outputs": [
    {
     "name": "stdout",
     "output_type": "stream",
     "text": [
      "My name is ashu and my age is 45\n",
      "My name is ashu and my age is 35\n"
     ]
    }
   ],
   "source": [
    "def display(name, age = 45):\n",
    "    print(\"My name is\", name, \"and my age is\", age)\n",
    "\n",
    "display(\"ashu\")\n",
    "display(\"ashu\", 35)"
   ]
  },
  {
   "cell_type": "code",
   "execution_count": 42,
   "metadata": {},
   "outputs": [
    {
     "name": "stdout",
     "output_type": "stream",
     "text": [
      "Maths: 85 Physics: 90 Chemistry: 45 Biology: 80\n",
      "Maths: 85 Physics: 90 Chemistry: 45 Biology: 50\n"
     ]
    }
   ],
   "source": [
    "def display_marks(maths, physics, chem, bio=80 ):\n",
    "    print(\"Maths:\", maths, \"Physics:\", physics, \"Chemistry:\", chem, \"Biology:\", bio)\n",
    "\n",
    "display_marks(85, chem = 45, physics = 90)\n",
    "display_marks(85, chem = 45, physics = 90, bio = 50)"
   ]
  },
  {
   "cell_type": "code",
   "execution_count": 12,
   "metadata": {},
   "outputs": [
    {
     "name": "stdout",
     "output_type": "stream",
     "text": [
      "Maths: 85 Physics: 90 Biology: 80\n"
     ]
    }
   ],
   "source": [
    "def display_marks(maths, physics,bio=80):\n",
    "    print(\"Maths:\", maths, \"Physics:\", physics, \"Biology:\", bio)\n",
    "\n",
    "display_marks(85, physics = 90)"
   ]
  },
  {
   "cell_type": "code",
   "execution_count": null,
   "metadata": {},
   "outputs": [],
   "source": []
  }
 ],
 "metadata": {
  "kernelspec": {
   "display_name": "Python 3 (ipykernel)",
   "language": "python",
   "name": "python3"
  },
  "language_info": {
   "codemirror_mode": {
    "name": "ipython",
    "version": 3
   },
   "file_extension": ".py",
   "mimetype": "text/x-python",
   "name": "python",
   "nbconvert_exporter": "python",
   "pygments_lexer": "ipython3",
   "version": "3.9.13"
  }
 },
 "nbformat": 4,
 "nbformat_minor": 4
}
