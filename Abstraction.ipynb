{
 "cells": [
  {
   "cell_type": "markdown",
   "metadata": {},
   "source": [
    "<a href=\"https://www.viharatech.com\"><img src=\"https://miro.medium.com/v2/resize:fit:828/format:webp/1*on2Bpj6A5gfd-CzaFOAZRA.jpeg\"></a>\n",
    "\n",
    "# Abstraction In Python"
   ]
  },
  {
   "cell_type": "raw",
   "metadata": {},
   "source": [
    "\n",
    "Abstraction in Python\n",
    "________________________________\n",
    "\n",
    "\n",
    "Abstraction is used to hide the internal functionality of the function from the users. The users only interact with the basic implementation of the function, but inner working is hidden. User is familiar with that \"what function does\" but they don't know \"how it does.\"\n",
    "\n",
    "In simple words, we all use the smartphone and very much familiar with its functions such as camera, voice-recorder, call-dialing, etc., but we don't know how these operations are happening in the background. Let's take another example - When we use the TV remote to increase the volume. We don't know how pressing a key increases the volume of the TV. We only know to press the \"+\" button to increase the volume.\n",
    "\n",
    "That is exactly the abstraction that works in the object-oriented concept."
   ]
  },
  {
   "cell_type": "raw",
   "metadata": {},
   "source": [
    "Why Abstraction is Important?\n",
    "____________________________________\n",
    "\n",
    "In Python, an abstraction is used to hide the irrelevant data/class in order to reduce the complexity. It also enhances the application efficiency. Next, we will learn how we can achieve abstraction using the Python program."
   ]
  },
  {
   "cell_type": "raw",
   "metadata": {},
   "source": [
    "In Python, abstraction can be achieved by using abstract classes and interfaces.\n",
    "\n",
    "A class that consists of one or more abstract method is called the abstract class. Abstract methods do not contain their implementation. Abstract class can be inherited by the subclass and abstract method gets its definition in the subclass. Abstraction classes are meant to be the blueprint of the other class. An abstract class can be useful when we are designing large functions. An abstract class is also helpful to provide the standard interface for different implementations of components. Python provides the abc module to use the abstraction in the Python program. Let's see the following syntax."
   ]
  },
  {
   "cell_type": "raw",
   "metadata": {},
   "source": [
    "Working of the Abstract Classes\n",
    "Unlike the other high-level language, Python doesn't provide the abstract class itself. We need to import the abc module, which provides the base for defining Abstract Base classes (ABC). The ABC works by decorating methods of the base class as abstract. It registers concrete classes as the implementation of the abstract base. We use the @abstractmethod decorator to define an abstract method or if we don't provide the definition to the method, it automatically becomes the abstract method. Let's understand the following example."
   ]
  },
  {
   "cell_type": "raw",
   "metadata": {},
   "source": [
    "1 . If we want to prove abstraction our class should be abstraction\n",
    "2 . If it is abstract class means then only we can write abstract methods\n",
    "                abstract class can have both normal methods and abstract methods \n",
    "3 . If we are taking the normal class then we can develop only normal functions we cannont develop        abstract methods "
   ]
  },
  {
   "cell_type": "raw",
   "metadata": {},
   "source": [
    "##   if you want to prove abstract methods the class should be in abstract class\n",
    "##    we can prove abstract method in child class only\n",
    "\n",
    "## security purpose "
   ]
  },
  {
   "cell_type": "raw",
   "metadata": {},
   "source": [
    "class kamal():  -> abstract -> ABC package to the class\n",
    "    def "
   ]
  },
  {
   "cell_type": "code",
   "execution_count": 1,
   "metadata": {},
   "outputs": [
    {
     "name": "stdout",
     "output_type": "stream",
     "text": [
      "The mileage is 30kmph\n",
      "The mileage is 27kmph \n",
      "The mileage is 25kmph \n",
      "The mileage is 24kmph \n"
     ]
    }
   ],
   "source": [
    "from abc import ABC, abstractmethod   \n",
    "class Car(ABC):   # abstract class\n",
    "    def mileage(self):   # abstract function \n",
    "        pass  \n",
    "  \n",
    "class Tesla(Car):   \n",
    "    def mileage(self):   \n",
    "        print(\"The mileage is 30kmph\")   \n",
    "class Suzuki(Car):   \n",
    "    def mileage(self):   \n",
    "        print(\"The mileage is 25kmph \")   \n",
    "class Duster(Car):   \n",
    "     def mileage(self):   \n",
    "          print(\"The mileage is 24kmph \")   \n",
    "  \n",
    "class Renault(Car):  # car is an abstract class  \n",
    "    def mileage(self):   \n",
    "            print(\"The mileage is 27kmph \")   \n",
    "          \n",
    "# Driver code   \n",
    "t= Tesla ()   \n",
    "t.mileage()   \n",
    "  \n",
    "r = Renault()   \n",
    "r.mileage()   \n",
    "  \n",
    "s = Suzuki()   \n",
    "s.mileage()   \n",
    "\n",
    "d = Duster()   \n",
    "d.mileage()  "
   ]
  },
  {
   "cell_type": "raw",
   "metadata": {},
   "source": [
    "Explanation -\n",
    "\n",
    "In the above code, we have imported the abc module to create the abstract base class. We created the Car class that inherited the ABC class and defined an abstract method named mileage(). We have then inherited the base class from the three different subclasses and implemented the abstract method differently. We created the objects to call the abstract method.\n",
    "\n",
    "Let's understand another example."
   ]
  },
  {
   "cell_type": "code",
   "execution_count": 2,
   "metadata": {},
   "outputs": [
    {
     "name": "stdout",
     "output_type": "stream",
     "text": [
      "Triangle has 3 sides\n",
      "I have 4 sides\n",
      "Pentagon has 5 sides\n",
      "Hexagon has 6 sides\n"
     ]
    }
   ],
   "source": [
    "from abc import ABC  \n",
    "  \n",
    "class Polygon(ABC):   \n",
    "  \n",
    "   # abstract method   \n",
    "    def sides(self):   \n",
    "        pass  \n",
    "class Triangle(Polygon):   \n",
    "  \n",
    "     \n",
    "    def sides(self):   \n",
    "        print(\"Triangle has 3 sides\")   \n",
    "class Pentagon(Polygon):\n",
    "    def sides(self):   \n",
    "        print(\"Pentagon has 5 sides\")   \n",
    "class Hexagon(Polygon):   \n",
    "    def sides(self):   \n",
    "        print(\"Hexagon has 6 sides\")   \n",
    "class square(Polygon):   \n",
    "  \n",
    "   def sides(self):   \n",
    "        print(\"I have 4 sides\")   \n",
    "  \n",
    "# Driver code   \n",
    "t = Triangle()   \n",
    "t.sides()   \n",
    "  \n",
    "s = square()   \n",
    "s.sides()   \n",
    "  \n",
    "p = Pentagon()   \n",
    "p.sides()   \n",
    "  \n",
    "l = Hexagon()   \n",
    "l.sides()   "
   ]
  },
  {
   "cell_type": "raw",
   "metadata": {},
   "source": [
    "Explanation -\n",
    "\n",
    "In the above code, we have defined the abstract base class named Polygon and we also defined the abstract method. This base class inherited by the various subclasses. We implemented the abstract method in each subclass. We created the object of the subclasses and invoke the sides() method. The hidden implementations for the sides() method inside the each subclass comes into play. The abstract method sides() method, defined in the abstract class, is never invoked."
   ]
  },
  {
   "cell_type": "code",
   "execution_count": null,
   "metadata": {},
   "outputs": [],
   "source": []
  }
 ],
 "metadata": {
  "kernelspec": {
   "display_name": "Python 3 (ipykernel)",
   "language": "python",
   "name": "python3"
  },
  "language_info": {
   "codemirror_mode": {
    "name": "ipython",
    "version": 3
   },
   "file_extension": ".py",
   "mimetype": "text/x-python",
   "name": "python",
   "nbconvert_exporter": "python",
   "pygments_lexer": "ipython3",
   "version": "3.9.13"
  }
 },
 "nbformat": 4,
 "nbformat_minor": 2
}
