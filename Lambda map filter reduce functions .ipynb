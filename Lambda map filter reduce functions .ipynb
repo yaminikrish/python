{
 "cells": [
  {
   "cell_type": "markdown",
   "metadata": {},
   "source": [
    "<a href=\"https://www.viharatech.com\"><img src=\"https://miro.medium.com/v2/resize:fit:828/format:webp/1*on2Bpj6A5gfd-CzaFOAZRA.jpeg\"></a>"
   ]
  },
  {
   "cell_type": "markdown",
   "metadata": {},
   "source": [
    "## Lambda Function"
   ]
  },
  {
   "cell_type": "raw",
   "metadata": {},
   "source": [
    "Python Lambda function is known as the anonymous function that is defined without a name. Python allows us to not declare the function in the standard manner, i.e., by using the def keyword. Rather, the anonymous functions are declared by using the lambda keyword. However, Lambda functions can accept any number of arguments, but they can return only one value in the form of expression."
   ]
  },
  {
   "cell_type": "raw",
   "metadata": {},
   "source": [
    "Syntax : lambda arguments: expression   "
   ]
  },
  {
   "cell_type": "raw",
   "metadata": {},
   "source": [
    "lambda function is nothing but anonymous function  anonymous function means function which is having no name = Lambda function "
   ]
  },
  {
   "cell_type": "code",
   "execution_count": 1,
   "metadata": {},
   "outputs": [
    {
     "name": "stdout",
     "output_type": "stream",
     "text": [
      "sum =  30\n"
     ]
    }
   ],
   "source": [
    "# with function \n",
    "def fun(x , y):\n",
    "    return x + y\n",
    "a = 10\n",
    "b = 20\n",
    "print('sum = ' , fun(a,b))"
   ]
  },
  {
   "cell_type": "code",
   "execution_count": 18,
   "metadata": {},
   "outputs": [
    {
     "name": "stdout",
     "output_type": "stream",
     "text": [
      "sum =  30\n"
     ]
    }
   ],
   "source": [
    "# with Lambda function\n",
    "\n",
    "a = 10\n",
    "b = 20\n",
    "c = lambda x, y : a + b\n",
    "print('sum = ' , c(a,b))\n"
   ]
  },
  {
   "cell_type": "code",
   "execution_count": 19,
   "metadata": {},
   "outputs": [
    {
     "name": "stdout",
     "output_type": "stream",
     "text": [
      "sum =  40\n"
     ]
    }
   ],
   "source": [
    "# with function\n",
    "def kamal(a):\n",
    "    return a + 30\n",
    "print('sum = ' , kamal(10))"
   ]
  },
  {
   "cell_type": "code",
   "execution_count": 2,
   "metadata": {},
   "outputs": [
    {
     "name": "stdout",
     "output_type": "stream",
     "text": [
      "Even numbers: [2, 4, 6, 8, 10]\n",
      "Odd numbers: [1, 3, 5, 7, 9]\n"
     ]
    }
   ],
   "source": [
    "numbers = [1, 2, 3, 4, 5, 6, 7, 8, 9, 10]\n",
    "\n",
    "# Use lambda function to check if a number is even or odd\n",
    "is_even = lambda x: x % 2 == 0\n",
    "is_odd = lambda x: x % 2 != 0\n",
    "\n",
    "# Use a loop to iterate over the list and get even and odd numbers\n",
    "even_numbers = []\n",
    "odd_numbers = []\n",
    "for num in numbers:\n",
    "    if is_even(num):\n",
    "        even_numbers.append(num)\n",
    "    else:\n",
    "        odd_numbers.append(num)\n",
    "\n",
    "# Print the results\n",
    "print(\"Even numbers:\", even_numbers)\n",
    "print(\"Odd numbers:\", odd_numbers)\n"
   ]
  },
  {
   "cell_type": "code",
   "execution_count": 1,
   "metadata": {},
   "outputs": [
    {
     "name": "stdout",
     "output_type": "stream",
     "text": [
      "even : False\n",
      "even : True\n",
      "even : False\n",
      "even : True\n",
      "even : False\n",
      "even : True\n",
      "even : False\n",
      "even : True\n",
      "even : False\n",
      "even : True\n"
     ]
    }
   ],
   "source": [
    "numbers = [1, 2, 3, 4, 5, 6, 7, 8, 9, 10]\n",
    "\n",
    "# Use lambda function to check if a number is even or odd\n",
    "is_even = lambda x: x % 2 == 0\n",
    "is_odd = lambda x: x % 2 != 0\n",
    "\n",
    "for i in numbers:\n",
    "    print('even :',is_even(i))"
   ]
  },
  {
   "cell_type": "code",
   "execution_count": 20,
   "metadata": {},
   "outputs": [
    {
     "name": "stdout",
     "output_type": "stream",
     "text": [
      "sum =  40\n"
     ]
    }
   ],
   "source": [
    "# with lambda \n",
    "a = lambda x : x + 30\n",
    "\n",
    "print('sum = ' , a(10))"
   ]
  },
  {
   "cell_type": "code",
   "execution_count": 26,
   "metadata": {},
   "outputs": [
    {
     "name": "stdout",
     "output_type": "stream",
     "text": [
      "2 * 1 = 2\n",
      "2 * 2 = 4\n",
      "2 * 3 = 6\n",
      "2 * 4 = 8\n",
      "2 * 5 = 10\n",
      "2 * 6 = 12\n",
      "2 * 7 = 14\n",
      "2 * 8 = 16\n",
      "2 * 9 = 18\n",
      "2 * 10 = 20\n"
     ]
    }
   ],
   "source": [
    "# without lambda table creating\n",
    "\n",
    "n = 2\n",
    "for i in range(1,11):\n",
    "    print(n , '*' , i  ,'=', n * i)\n"
   ]
  },
  {
   "cell_type": "code",
   "execution_count": 3,
   "metadata": {},
   "outputs": [
    {
     "name": "stdout",
     "output_type": "stream",
     "text": [
      "Enter a Number for table = 7\n",
      "7 * 1 = 7\n",
      "7 * 2 = 14\n",
      "7 * 3 = 21\n",
      "7 * 4 = 28\n",
      "7 * 5 = 35\n",
      "7 * 6 = 42\n",
      "7 * 7 = 49\n",
      "7 * 8 = 56\n",
      "7 * 9 = 63\n",
      "7 * 10 = 70\n",
      "<function <lambda> at 0x0000017ABB883F78>\n"
     ]
    }
   ],
   "source": [
    "# with lambda function \n",
    "n = int(input(\"Enter a Number for table = \"))\n",
    "c = lambda x , y : n * i \n",
    "for i in range(1,11):\n",
    "     print(n ,'*',i , '=', c(n , i))\n",
    "print(c)\n",
    "    "
   ]
  },
  {
   "cell_type": "markdown",
   "metadata": {},
   "source": [
    "## map function "
   ]
  },
  {
   "cell_type": "raw",
   "metadata": {},
   "source": [
    "The map() function executes a specified function for each item in an iterable. The item is sent to the function as a parameter."
   ]
  },
  {
   "cell_type": "raw",
   "metadata": {},
   "source": [
    "Syntax :\n",
    "--------------\n",
    "\n",
    "map(function , iterables)"
   ]
  },
  {
   "cell_type": "raw",
   "metadata": {},
   "source": [
    "function = Required. The function to execute for each item\n",
    "iterable = Required. A sequence, collection or an iterator object. You can send as many iterables as you like, just make sure the function has one parameter for each iterable.\n"
   ]
  },
  {
   "cell_type": "raw",
   "metadata": {},
   "source": [
    "Applies the given function to all the iterables and returns a new list"
   ]
  },
  {
   "cell_type": "code",
   "execution_count": 30,
   "metadata": {},
   "outputs": [],
   "source": [
    "def fun(b):\n",
    "    if b % 2 == 0:\n",
    "        return 'The Number {} is even'.format(i)\n",
    "    else:\n",
    "        return 'The Number {} is odd'.format(i)"
   ]
  },
  {
   "cell_type": "code",
   "execution_count": 31,
   "metadata": {},
   "outputs": [
    {
     "data": {
      "text/plain": [
       "['The Number 1 is odd',\n",
       " 'The Number 2 is even',\n",
       " 'The Number 3 is odd',\n",
       " 'The Number 4 is even',\n",
       " 'The Number 5 is odd',\n",
       " 'The Number 6 is even',\n",
       " 'The Number 7 is odd',\n",
       " 'The Number 8 is even',\n",
       " 'The Number 9 is odd',\n",
       " 'The Number 10 is even']"
      ]
     },
     "execution_count": 31,
     "metadata": {},
     "output_type": "execute_result"
    }
   ],
   "source": [
    "a = [1,2,3,4,5,6,7,8,9,10]\n",
    "c = []\n",
    "for i in a:\n",
    "    a = fun(i)\n",
    "    c.append(a)\n",
    "c\n"
   ]
  },
  {
   "cell_type": "code",
   "execution_count": 35,
   "metadata": {},
   "outputs": [],
   "source": [
    "def kamal(b):\n",
    "    if b % 2 == 0:\n",
    "        return 'The Number {} is even'.format(i)\n",
    "    else:\n",
    "        return 'The Number {} is odd'.format(i)"
   ]
  },
  {
   "cell_type": "code",
   "execution_count": 36,
   "metadata": {},
   "outputs": [
    {
     "data": {
      "text/plain": [
       "['The Number 10 is odd',\n",
       " 'The Number 10 is even',\n",
       " 'The Number 10 is odd',\n",
       " 'The Number 10 is even',\n",
       " 'The Number 10 is odd',\n",
       " 'The Number 10 is even',\n",
       " 'The Number 10 is odd',\n",
       " 'The Number 10 is even',\n",
       " 'The Number 10 is odd',\n",
       " 'The Number 10 is even']"
      ]
     },
     "execution_count": 36,
     "metadata": {},
     "output_type": "execute_result"
    }
   ],
   "source": [
    "# with map function \n",
    "a = [1,2,3,4,5,6,7,8,9,10]\n",
    "n = list(map(kamal ,a))\n",
    "n"
   ]
  },
  {
   "cell_type": "code",
   "execution_count": 37,
   "metadata": {},
   "outputs": [
    {
     "name": "stdout",
     "output_type": "stream",
     "text": [
      "[1, 4, 9, 16]\n"
     ]
    }
   ],
   "source": [
    "def square(a):\n",
    "    return a * a\n",
    "    \n",
    "a = [1,2,3,4]\n",
    "b = map(square , a)\n",
    "print(list(b))"
   ]
  },
  {
   "cell_type": "code",
   "execution_count": 38,
   "metadata": {},
   "outputs": [
    {
     "name": "stdout",
     "output_type": "stream",
     "text": [
      "[1, 4, 9, 16]\n"
     ]
    }
   ],
   "source": [
    "def square(a):\n",
    "    return a * a\n",
    "    \n",
    "\n",
    "b = map(square , [1,2,3,4])\n",
    "print(list(b))"
   ]
  },
  {
   "cell_type": "code",
   "execution_count": 47,
   "metadata": {},
   "outputs": [
    {
     "name": "stdout",
     "output_type": "stream",
     "text": [
      "[11, 12, 13, 14]\n"
     ]
    }
   ],
   "source": [
    "# Map and lambda \n",
    "a = [1,2,3,4]\n",
    "b = map(lambda a : a + 10 , a)\n",
    "print(list(b))"
   ]
  },
  {
   "cell_type": "code",
   "execution_count": 48,
   "metadata": {},
   "outputs": [
    {
     "name": "stdout",
     "output_type": "stream",
     "text": [
      "[11, 13, 16, 18]\n"
     ]
    }
   ],
   "source": [
    "a = [1,2,3,4]\n",
    "b = [10,11,13,14]\n",
    "c = map(lambda x , y : x + y  , a , b)\n",
    "print(list(c))"
   ]
  },
  {
   "cell_type": "code",
   "execution_count": 50,
   "metadata": {},
   "outputs": [
    {
     "name": "stdout",
     "output_type": "stream",
     "text": [
      "[20, 40, 60, 80]\n"
     ]
    }
   ],
   "source": [
    "a = [1,2,3,4]\n",
    "b = map(lambda x : x * 20 , a)\n",
    "print(list(b))"
   ]
  },
  {
   "cell_type": "markdown",
   "metadata": {},
   "source": [
    "## Filter Function"
   ]
  },
  {
   "cell_type": "raw",
   "metadata": {},
   "source": [
    "creates an output list , tuple  which contains values for which the function returns true "
   ]
  },
  {
   "cell_type": "code",
   "execution_count": 3,
   "metadata": {},
   "outputs": [
    {
     "name": "stdout",
     "output_type": "stream",
     "text": [
      "3\n",
      "4\n",
      "5\n"
     ]
    }
   ],
   "source": [
    "# function\n",
    "def kamal(a):\n",
    "    for i in a:\n",
    "        if i>=3:\n",
    "            print(i)\n",
    "a = [1,2,3,4,5]\n",
    "kamal(a)"
   ]
  },
  {
   "cell_type": "code",
   "execution_count": 1,
   "metadata": {},
   "outputs": [
    {
     "name": "stdout",
     "output_type": "stream",
     "text": [
      "[None, None, 3, 4, 5]\n"
     ]
    }
   ],
   "source": [
    "## map with function\n",
    "\n",
    "def kamal(a):\n",
    "    if a >= 3:\n",
    "        return a\n",
    "    \n",
    "\n",
    "a = [1,2,3,4,5]\n",
    "b = map(kamal , a)\n",
    "print(list(b))"
   ]
  },
  {
   "cell_type": "code",
   "execution_count": 2,
   "metadata": {},
   "outputs": [
    {
     "name": "stdout",
     "output_type": "stream",
     "text": [
      "[False, False, True, True, True]\n"
     ]
    }
   ],
   "source": [
    "a = map(lambda x: x>=3 , [1,2,3,4,5])\n",
    "print(list(a))"
   ]
  },
  {
   "cell_type": "code",
   "execution_count": 3,
   "metadata": {},
   "outputs": [
    {
     "name": "stdout",
     "output_type": "stream",
     "text": [
      "[3, 4, 5]\n"
     ]
    }
   ],
   "source": [
    "## map with function\n",
    "\n",
    "def kamal(a):\n",
    "    if a >= 3:\n",
    "        return a\n",
    "    \n",
    "\n",
    "a = [1,2,3,4,5]\n",
    "b = filter(kamal , a)\n",
    "print(list(b))"
   ]
  },
  {
   "cell_type": "code",
   "execution_count": 68,
   "metadata": {},
   "outputs": [
    {
     "name": "stdout",
     "output_type": "stream",
     "text": [
      "[3, 4, 5]\n"
     ]
    }
   ],
   "source": [
    "a = filter(lambda x: x>=3 , [1,2,3,4,5])\n",
    "print(list(a))"
   ]
  },
  {
   "cell_type": "code",
   "execution_count": 70,
   "metadata": {},
   "outputs": [
    {
     "name": "stdout",
     "output_type": "stream",
     "text": [
      "[2, 4, 6, 8]\n"
     ]
    }
   ],
   "source": [
    "a = filter(lambda x : x%2 == 0 , [1,2,3,4,5,6,7,8])\n",
    "print(list(a))"
   ]
  },
  {
   "cell_type": "markdown",
   "metadata": {},
   "source": [
    "## Reduce Function "
   ]
  },
  {
   "cell_type": "raw",
   "metadata": {},
   "source": [
    "Applies the given function to all the iterables and returns a single value \n",
    "\n",
    "## a = [1,2,3,4]\n",
    "reduce(a+b)\n",
    "\n",
    "\n",
    "# internal operating\n",
    "\n",
    "\n",
    "1 + 2 = 3 \n",
    "3 + 3 = 6\n",
    "6 + 4 = 10\n",
    "\n",
    "\n",
    "\n",
    "\n",
    "a = [9,4,2,11]\n",
    "\n",
    "# sum(a)\n",
    "\n",
    "reduce(a)\n",
    "\n",
    "9 + 4 = 13\n",
    "13 + 2 = 15\n",
    "15 + 11 = 26\n",
    "\n",
    "reduce(lambda x , y : x * y , [1,2,30,4,50])\n",
    "\n",
    "1 * 2 = 2\n",
    "2 * 30 = 60\n",
    "60 * 4 = 240\n",
    "240 * 5 = 1210\n",
    "\n",
    "\n",
    "a = [1,2,3,4,5]\n",
    "a if a > b else b\n",
    "\n",
    "\n",
    "a = 1 , b = 2\n",
    "\n",
    "if a>b \n",
    "b = 2\n",
    "\n",
    "a = 2 b = 3\n",
    "a = b\n",
    "\n",
    "\n"
   ]
  },
  {
   "cell_type": "code",
   "execution_count": 76,
   "metadata": {},
   "outputs": [],
   "source": [
    "from functools import reduce # import giving access"
   ]
  },
  {
   "cell_type": "code",
   "execution_count": 78,
   "metadata": {},
   "outputs": [
    {
     "name": "stdout",
     "output_type": "stream",
     "text": [
      "10\n"
     ]
    }
   ],
   "source": [
    "a= reduce(lambda x,y:x + y , [1,2,3,4])\n",
    "print(a)"
   ]
  },
  {
   "cell_type": "code",
   "execution_count": 80,
   "metadata": {},
   "outputs": [
    {
     "name": "stdout",
     "output_type": "stream",
     "text": [
      "120\n"
     ]
    }
   ],
   "source": [
    "a = reduce(lambda x , y : x * y , [1,2,3,4,5])\n",
    "print(a)"
   ]
  },
  {
   "cell_type": "code",
   "execution_count": 89,
   "metadata": {},
   "outputs": [
    {
     "name": "stdout",
     "output_type": "stream",
     "text": [
      "17\n",
      "6\n"
     ]
    }
   ],
   "source": [
    "check = [ 1 , 3, 5, 6, 2]\n",
    " \n",
    "## sum and maximum value \n",
    "\n",
    "#print(reduce(lambda a,b : a+b,check))\n",
    " \n",
    "\n",
    "print(reduce(lambda a,b : a if a > b else b,check))"
   ]
  },
  {
   "cell_type": "markdown",
   "metadata": {},
   "source": [
    "## Filter with map function "
   ]
  },
  {
   "cell_type": "code",
   "execution_count": 2,
   "metadata": {},
   "outputs": [
    {
     "name": "stdout",
     "output_type": "stream",
     "text": [
      "[6]\n"
     ]
    }
   ],
   "source": [
    "a = [1,2,3]\n",
    "b = map(lambda x : x + 3 , filter(lambda x : x>2 , a)) # from filter output is 3\n",
    "print(list(b))"
   ]
  },
  {
   "cell_type": "code",
   "execution_count": 92,
   "metadata": {},
   "outputs": [
    {
     "name": "stdout",
     "output_type": "stream",
     "text": [
      "[13, 14, 15]\n"
     ]
    }
   ],
   "source": [
    "a = map(lambda x : x + 3 , filter(lambda x : x>=10 , [8 , 9 ,10 ,11,12]))\n",
    "print(list(a))"
   ]
  },
  {
   "cell_type": "markdown",
   "metadata": {},
   "source": [
    "## Map with filter function "
   ]
  },
  {
   "cell_type": "code",
   "execution_count": 102,
   "metadata": {},
   "outputs": [
    {
     "name": "stdout",
     "output_type": "stream",
     "text": [
      "[10, 12, 14]\n"
     ]
    }
   ],
   "source": [
    "a = filter(lambda x : x % 2 == 0 , map(lambda x : x+2 , [8,9,10 ,11,12]))\n",
    "print(list(a))"
   ]
  },
  {
   "cell_type": "markdown",
   "metadata": {},
   "source": [
    "## Map and filter function with reduce "
   ]
  },
  {
   "cell_type": "code",
   "execution_count": 100,
   "metadata": {},
   "outputs": [
    {
     "name": "stdout",
     "output_type": "stream",
     "text": [
      "10\n"
     ]
    }
   ],
   "source": [
    "a = reduce(lambda x,y : x + y ,map(lambda x : x + 2 , filter(lambda x : x % 2 == 0 , [1,2,3,4])))\n",
    "print(a)"
   ]
  },
  {
   "cell_type": "code",
   "execution_count": null,
   "metadata": {},
   "outputs": [],
   "source": [
    "map()"
   ]
  },
  {
   "cell_type": "code",
   "execution_count": 3,
   "metadata": {},
   "outputs": [
    {
     "name": "stdout",
     "output_type": "stream",
     "text": [
      "4\n"
     ]
    }
   ],
   "source": [
    "a = [1,2,3,4]\n",
    "\n",
    "c = 0\n",
    "for i in a:\n",
    "    c+=1\n",
    "print(c)"
   ]
  },
  {
   "cell_type": "code",
   "execution_count": 1,
   "metadata": {},
   "outputs": [
    {
     "name": "stdout",
     "output_type": "stream",
     "text": [
      "4\n"
     ]
    }
   ],
   "source": [
    "others = 0\n",
    "for i in range(2):\n",
    "    for j in range(2):\n",
    "        if i != j:\n",
    "            others += 1\n",
    "        else:\n",
    "            others += 1\n",
    "print(others)"
   ]
  },
  {
   "cell_type": "code",
   "execution_count": null,
   "metadata": {},
   "outputs": [],
   "source": []
  }
 ],
 "metadata": {
  "kernelspec": {
   "display_name": "Python 3 (ipykernel)",
   "language": "python",
   "name": "python3"
  },
  "language_info": {
   "codemirror_mode": {
    "name": "ipython",
    "version": 3
   },
   "file_extension": ".py",
   "mimetype": "text/x-python",
   "name": "python",
   "nbconvert_exporter": "python",
   "pygments_lexer": "ipython3",
   "version": "3.9.13"
  }
 },
 "nbformat": 4,
 "nbformat_minor": 2
}
