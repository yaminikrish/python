{
 "cells": [
  {
   "cell_type": "markdown",
   "metadata": {},
   "source": [
    "<a href=\"https://www.viharatech.com\"><img src=\"https://miro.medium.com/v2/resize:fit:828/format:webp/1*on2Bpj6A5gfd-CzaFOAZRA.jpeg\"></a>\n",
    "\n",
    "# Dictionary "
   ]
  },
  {
   "cell_type": "code",
   "execution_count": 2,
   "metadata": {},
   "outputs": [
    {
     "name": "stdout",
     "output_type": "stream",
     "text": [
      "{1, 2, 3, 4}\n",
      "<class 'set'>\n",
      "{'name': 'kamal', 'age': 24}\n",
      "<class 'dict'>\n"
     ]
    }
   ],
   "source": [
    "## dictionary \n",
    "\n",
    "a = {1,2,3,4}  # set \n",
    "print(a)\n",
    "print(type(a))\n",
    "\n",
    "b = {'name' : 'kamal' , 'age': 24} # key and value concept\n",
    "print(b)\n",
    "print(type(b))"
   ]
  },
  {
   "cell_type": "code",
   "execution_count": null,
   "metadata": {},
   "outputs": [],
   "source": [
    "## Dictionary (uses)\n",
    "\n",
    "# 1) Data handling \n",
    "# 2) Data manipulation\n",
    "# 3) Data cleaning\n",
    "\n",
    "\n",
    "## Entire Data science we are going deal with the data \n",
    "## 1) for Dealing data we are going to use most important technique = Dictionary second power full\n",
    "## 2) Pandas is very power fulll\n",
    "\n"
   ]
  },
  {
   "cell_type": "code",
   "execution_count": 5,
   "metadata": {},
   "outputs": [
    {
     "data": {
      "text/plain": [
       "2"
      ]
     },
     "execution_count": 5,
     "metadata": {},
     "output_type": "execute_result"
    }
   ],
   "source": [
    "pow(3,3,5) # 3 * 3 * 3 = 27 , 27 % 5 = 2"
   ]
  },
  {
   "cell_type": "code",
   "execution_count": 3,
   "metadata": {},
   "outputs": [
    {
     "name": "stdout",
     "output_type": "stream",
     "text": [
      "Even vaues =  [4, 16, 36, 64, 100]\n",
      "Odd values =  [1, 27, 125, 343, 729]\n"
     ]
    }
   ],
   "source": [
    "## without  list comprehension\n",
    "\n",
    "even = []\n",
    "odd = []\n",
    "\n",
    "for i in range(1,11): # i  = 1 to 10\n",
    "    if i % 2 == 0:\n",
    "        even.append(i ** 2)\n",
    "    else:\n",
    "        odd.append(i ** 3)\n",
    "print(\"Even vaues = \" , even)\n",
    "\n",
    "print(\"Odd values = \" , odd)\n",
    "    \n",
    "\n"
   ]
  },
  {
   "cell_type": "code",
   "execution_count": 6,
   "metadata": {},
   "outputs": [
    {
     "name": "stdout",
     "output_type": "stream",
     "text": [
      "[1, 4, 27, 16, 125, 36, 343, 64, 729, 100]\n"
     ]
    }
   ],
   "source": [
    "# with list comprehension\n",
    "a = [i ** 2 if i % 2 == 0 else i ** 3 for i in range(1,11)]\n",
    "print(a)"
   ]
  },
  {
   "cell_type": "code",
   "execution_count": 10,
   "metadata": {},
   "outputs": [
    {
     "name": "stdout",
     "output_type": "stream",
     "text": [
      "Keys of the dictionary =  name\n",
      "Keys of the dictionary =  age\n",
      "values of the dictionary =  kamal\n",
      "values of the dictionary =  24\n",
      "Keys =  name\n",
      "values =  kamal\n",
      "Keys =  age\n",
      "values =  24\n"
     ]
    }
   ],
   "source": [
    "a = {'name' : 'kamal' , 'age' : 24} # dictionary\n",
    "for i in a.keys():\n",
    "    print('Keys of the dictionary = ' , i)\n",
    "for j in a.values():\n",
    "    print(\"values of the dictionary = \" , j)\n",
    "for i , j in a.items():\n",
    "    print('Keys = ' , i)\n",
    "    print(\"values = \" , j)\n"
   ]
  },
  {
   "cell_type": "code",
   "execution_count": 11,
   "metadata": {},
   "outputs": [
    {
     "name": "stdout",
     "output_type": "stream",
     "text": [
      "[21, 22, 23, 24, 25, 26, 27, 28, 29, 30]\n"
     ]
    }
   ],
   "source": [
    "a = []\n",
    "for i in range(21 , 31):\n",
    "    a.append(i)\n",
    "print(a)"
   ]
  },
  {
   "cell_type": "code",
   "execution_count": 14,
   "metadata": {},
   "outputs": [
    {
     "name": "stdout",
     "output_type": "stream",
     "text": [
      "Empty dictionary converted to =  {'name': 'kamal', 'age': 24}\n",
      "Keys =  name\n",
      "values =  kamal\n",
      "Keys =  age\n",
      "values =  24\n"
     ]
    }
   ],
   "source": [
    "# empty dicitonary\n",
    "a = {}\n",
    "\n",
    "a['name'] = 'kamal'\n",
    "a['age'] = 24\n",
    "print('Empty dictionary converted to = ' , a)\n",
    "for i , j in a.items():\n",
    "    print('Keys = ' , i)\n",
    "    print(\"values = \" , j)\n"
   ]
  },
  {
   "cell_type": "code",
   "execution_count": 15,
   "metadata": {},
   "outputs": [
    {
     "name": "stdout",
     "output_type": "stream",
     "text": [
      "{1: 1, 2: 8, 3: 27}\n"
     ]
    }
   ],
   "source": [
    "## i need my output like = {1 : 1 , 2 : 8 , 3 : 27}\n",
    "## with out dictionary comprehesion\n",
    "a = {}\n",
    "# a = {1 : 1 , 2:8 , 3 : 27}\n",
    "for i in range(1,4):  # i == 1  ,2 , 3\n",
    "    a[i] = i ** 3\n",
    "print(a)\n",
    "\n"
   ]
  },
  {
   "cell_type": "code",
   "execution_count": 16,
   "metadata": {},
   "outputs": [
    {
     "name": "stdout",
     "output_type": "stream",
     "text": [
      "{1: 1, 2: 8, 3: 27}\n"
     ]
    }
   ],
   "source": [
    "##  with comprehension\n",
    "\n",
    "a = {i:i**3 for i in range(1,4)} # i  =1,2,3\n",
    "print(a)"
   ]
  },
  {
   "cell_type": "code",
   "execution_count": 1,
   "metadata": {},
   "outputs": [
    {
     "name": "stdout",
     "output_type": "stream",
     "text": [
      "{1: 1, 2: 8, 3: 27, 4: 64, 5: 125, 6: 216, 7: 343, 8: 512, 9: 729, 10: 1000}\n"
     ]
    }
   ],
   "source": [
    "cubes = {}\n",
    "\n",
    "for num in range(1, 11):\n",
    "    cubes[num] = num**3\n",
    "\n",
    "print(cubes)"
   ]
  },
  {
   "cell_type": "code",
   "execution_count": 29,
   "metadata": {},
   "outputs": [
    {
     "name": "stdout",
     "output_type": "stream",
     "text": [
      "{1: 1, 2: 8, 3: 27, 4: 64, 5: 125, 6: 216, 7: 343, 8: 512, 9: 729, 10: 1000}\n"
     ]
    }
   ],
   "source": [
    "a = {i: i**3 for i in range(1,11)}\n",
    "print(a)"
   ]
  },
  {
   "cell_type": "code",
   "execution_count": 1,
   "metadata": {},
   "outputs": [
    {
     "name": "stdout",
     "output_type": "stream",
     "text": [
      "{1: 1, 2: 8, 3: 27, 4: 64, 5: 125, 6: 216, 7: 343, 8: 512, 9: 729, 10: 1000}\n"
     ]
    }
   ],
   "source": [
    "cubes = {num: num**3 for num in range(1, 11)}\n",
    "print(cubes)"
   ]
  },
  {
   "cell_type": "code",
   "execution_count": 30,
   "metadata": {},
   "outputs": [
    {
     "name": "stdout",
     "output_type": "stream",
     "text": [
      "{'mango': 80, 'banana': 20, 'cherry': 40}\n"
     ]
    }
   ],
   "source": [
    "#new_dictionary = {key: value for_loop}\n",
    "fruits = {'mango': 40, 'banana': 10, 'cherry': 20}\n",
    "new_fruits = {}\n",
    "# new_fruits = {'mango' : 80 , }\n",
    "for i, j in fruits.items():\n",
    "    new_fruits[i] = j * 2\n",
    "\n",
    "print(new_fruits)"
   ]
  },
  {
   "cell_type": "code",
   "execution_count": 31,
   "metadata": {},
   "outputs": [
    {
     "name": "stdout",
     "output_type": "stream",
     "text": [
      "{'mango': 80, 'banana': 20, 'cherry': 40}\n"
     ]
    }
   ],
   "source": [
    "fruits = {'mango': 40, 'banana': 10, 'cherry': 20}\n",
    "new_fruits = {i: j*2 for (i, j) in fruits.items()} # i = keys j = values \n",
    "print(new_fruits)"
   ]
  },
  {
   "cell_type": "code",
   "execution_count": 23,
   "metadata": {},
   "outputs": [],
   "source": [
    "#new_dictionary = {key: value for_loop if condition}"
   ]
  },
  {
   "cell_type": "code",
   "execution_count": 32,
   "metadata": {},
   "outputs": [
    {
     "name": "stdout",
     "output_type": "stream",
     "text": [
      "{'mango': 80, 'cherry': 40}\n"
     ]
    }
   ],
   "source": [
    "fruits = {'mango': 40, 'banana': 10, 'cherry': 20}\n",
    "new_fruits = {i: j*2 for (i,j) in fruits.items() if j > 15}\n",
    "print(new_fruits)"
   ]
  },
  {
   "cell_type": "code",
   "execution_count": 17,
   "metadata": {},
   "outputs": [
    {
     "name": "stdout",
     "output_type": "stream",
     "text": [
      "{'ashu': 'Pass', 'mahesh': 'Pass', 'ashwini': 'Fail', 'asha': 'Pass'}\n"
     ]
    }
   ],
   "source": [
    "#new_list = {key: value for_loop if condition}\n",
    "#new_list = {key: (value1 if condition else value2) for_loop} milli seconds \n",
    "result = {\"ashu\": 45, \"mahesh\": 70, \"ashwini\": 32, \"asha\": 65}\n",
    "new_result = {}\n",
    "\n",
    "for name, marks in result.items():\n",
    "    if marks >= 40:\n",
    "        new_result[name] = \"Pass\"\n",
    "    else:\n",
    "        new_result[name] = \"Fail\"\n",
    "\n",
    "print(new_result)"
   ]
  },
  {
   "cell_type": "code",
   "execution_count": 18,
   "metadata": {},
   "outputs": [
    {
     "name": "stdout",
     "output_type": "stream",
     "text": [
      "{'ashu': 'Pass', 'Mark': 'Pass', 'ashwini': 'Fail', 'asha': 'Pass'}\n"
     ]
    }
   ],
   "source": [
    "result = {\"ashu\": 45, \"Mark\": 70, \"ashwini\": 32, \"asha\": 65} # nano seconds \n",
    "new_result = {name: (\"Pass\" if marks >= 40 else \"Fail\") for (name, marks) in result.items()}\n",
    "print(new_result)"
   ]
  },
  {
   "cell_type": "code",
   "execution_count": 3,
   "metadata": {},
   "outputs": [
    {
     "name": "stdout",
     "output_type": "stream",
     "text": [
      "('dhoni', 12)\n",
      "('k', 13)\n",
      "('p', 100)\n"
     ]
    }
   ],
   "source": [
    "## time complexity = time taken for execution of a cell \n",
    "\n",
    "a = {'dhoni':12,'k':13 , 'p':100}\n",
    "\n",
    "for i in a.items():\n",
    "    print(i)"
   ]
  },
  {
   "cell_type": "code",
   "execution_count": null,
   "metadata": {},
   "outputs": [],
   "source": []
  }
 ],
 "metadata": {
  "kernelspec": {
   "display_name": "Python 3 (ipykernel)",
   "language": "python",
   "name": "python3"
  },
  "language_info": {
   "codemirror_mode": {
    "name": "ipython",
    "version": 3
   },
   "file_extension": ".py",
   "mimetype": "text/x-python",
   "name": "python",
   "nbconvert_exporter": "python",
   "pygments_lexer": "ipython3",
   "version": "3.9.13"
  }
 },
 "nbformat": 4,
 "nbformat_minor": 4
}
