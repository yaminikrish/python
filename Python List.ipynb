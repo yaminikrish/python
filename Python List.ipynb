{
 "cells": [
  {
   "cell_type": "markdown",
   "metadata": {},
   "source": [
    "<a href=\"https://www.viharatech.com\"><img src=\"https://miro.medium.com/v2/resize:fit:828/format:webp/1*on2Bpj6A5gfd-CzaFOAZRA.jpeg\"></a>\n"
   ]
  },
  {
   "cell_type": "code",
   "execution_count": 1,
   "metadata": {},
   "outputs": [
    {
     "name": "stdout",
     "output_type": "stream",
     "text": [
      "<class 'list'>\n"
     ]
    }
   ],
   "source": [
    "a = [1,2,3,34]\n",
    "print(type(a))"
   ]
  },
  {
   "cell_type": "code",
   "execution_count": 2,
   "metadata": {},
   "outputs": [
    {
     "data": {
      "text/plain": [
       "[1, 12.2, 'kamal']"
      ]
     },
     "execution_count": 2,
     "metadata": {},
     "output_type": "execute_result"
    }
   ],
   "source": [
    "a = [1 , 12.2 , 'kamal']\n",
    "a"
   ]
  },
  {
   "cell_type": "code",
   "execution_count": 4,
   "metadata": {},
   "outputs": [
    {
     "name": "stdout",
     "output_type": "stream",
     "text": [
      "<class 'int'>\n",
      "<class 'float'>\n",
      "<class 'str'>\n",
      "<class 'bool'>\n"
     ]
    }
   ],
   "source": [
    "a = [1,1.2,'python',True] # boolean = True , False\n",
    "for i in a:\n",
    "    print(type(i))"
   ]
  },
  {
   "cell_type": "code",
   "execution_count": 47,
   "metadata": {},
   "outputs": [
    {
     "data": {
      "text/plain": [
       "['red', 'green', 'blue']"
      ]
     },
     "execution_count": 47,
     "metadata": {},
     "output_type": "execute_result"
    }
   ],
   "source": [
    "#create list\n",
    "colors=['red','green','blue']\n",
    "colors"
   ]
  },
  {
   "cell_type": "code",
   "execution_count": 15,
   "metadata": {},
   "outputs": [
    {
     "data": {
      "text/plain": [
       "[]"
      ]
     },
     "execution_count": 15,
     "metadata": {},
     "output_type": "execute_result"
    }
   ],
   "source": [
    "a=[]\n",
    "a"
   ]
  },
  {
   "cell_type": "code",
   "execution_count": 16,
   "metadata": {},
   "outputs": [
    {
     "name": "stdout",
     "output_type": "stream",
     "text": [
      "[2, 'Hello', True, 100.0, 2]\n"
     ]
    }
   ],
   "source": [
    "mylist = [2, \"Hello\", True, 100.00, 2]\n",
    "print(mylist)"
   ]
  },
  {
   "cell_type": "code",
   "execution_count": 51,
   "metadata": {},
   "outputs": [
    {
     "name": "stdout",
     "output_type": "stream",
     "text": [
      "<class 'list'>\n"
     ]
    }
   ],
   "source": [
    "print(type([]))"
   ]
  },
  {
   "cell_type": "code",
   "execution_count": 52,
   "metadata": {},
   "outputs": [
    {
     "name": "stdout",
     "output_type": "stream",
     "text": [
      "4\n",
      "9\n",
      "6\n",
      "2\n"
     ]
    }
   ],
   "source": [
    "#Python Accessing Elements from List\n",
    "mylist = [4,9,6,2]\n",
    "print(mylist[0])\n",
    "print(mylist[1])\n",
    "print(mylist[2])\n",
    "print(mylist[3])"
   ]
  },
  {
   "cell_type": "code",
   "execution_count": 5,
   "metadata": {},
   "outputs": [
    {
     "name": "stdout",
     "output_type": "stream",
     "text": [
      "4\n",
      "9\n",
      "6\n",
      "2\n"
     ]
    }
   ],
   "source": [
    "mylist = [4,9,6,2]\n",
    "for i in range(len(mylist)):\n",
    "    print(mylist[i])"
   ]
  },
  {
   "cell_type": "code",
   "execution_count": 54,
   "metadata": {},
   "outputs": [
    {
     "name": "stdout",
     "output_type": "stream",
     "text": [
      "2\n",
      "6\n",
      "9\n",
      "4\n"
     ]
    }
   ],
   "source": [
    "#Negative Index in Python List\n",
    "mylist = [4,9,6,2]\n",
    "# accessing using negative indices\n",
    "print(mylist[-1])\n",
    "print(mylist[-2])\n",
    "print(mylist[-3])\n",
    "print(mylist[-4])"
   ]
  },
  {
   "cell_type": "code",
   "execution_count": 55,
   "metadata": {},
   "outputs": [
    {
     "name": "stdout",
     "output_type": "stream",
     "text": [
      "[2, 3, 4]\n"
     ]
    }
   ],
   "source": [
    "#Python Slicing\n",
    "mylist = [1,2,3,4,5]\n",
    "print(mylist[1:4]) # 1 to 3"
   ]
  },
  {
   "cell_type": "code",
   "execution_count": 56,
   "metadata": {},
   "outputs": [
    {
     "name": "stdout",
     "output_type": "stream",
     "text": [
      "[2, 3, 4, 5]\n",
      "[1, 2, 3, 4, 5]\n",
      "[5, 6]\n",
      "[1, 2, 3, 4]\n",
      "[3, 4]\n",
      "[3, 4]\n",
      "[1, 2, 3, 4, 5, 6]\n"
     ]
    }
   ],
   "source": [
    "mylist = [1, 2, 3, 4, 5, 6]\n",
    "\n",
    "# from 2nd element till 5th element\n",
    "print(mylist[1:5])\n",
    "\n",
    "# from start till 5th element\n",
    "print(mylist[:5])\n",
    "\n",
    "# from 5th element till end\n",
    "print(mylist[4:])\n",
    "\n",
    "# from start till 3rd last element\n",
    "print(mylist[:-2])\n",
    "\n",
    "# from 4th last element till 3rd last element\n",
    "print(mylist[-4:-2])\n",
    "\n",
    "# from 3rd element till 3rd last element\n",
    "print(mylist[2:-2])\n",
    "\n",
    "# all elements\n",
    "print(mylist[:])"
   ]
  },
  {
   "cell_type": "code",
   "execution_count": 57,
   "metadata": {},
   "outputs": [
    {
     "name": "stdout",
     "output_type": "stream",
     "text": [
      "[2, 3, 4, 5, 6, 7, 8, 9]\n",
      "[2, 4, 6, 8]\n",
      "[2, 5, 8]\n"
     ]
    }
   ],
   "source": [
    "mylist = [1, 2, 3, 4, 5, 6, 7, 8, 9, 10]\n",
    "\n",
    "# from 2nd element till 9th element\n",
    "print(mylist[1:9])\n",
    "\n",
    "# from 2nd element till 9th element in step 2\n",
    "print(mylist[1:9:2])\n",
    "\n",
    "# from 2nd element till 9th element in step 3\n",
    "print(mylist[1:9:3])"
   ]
  },
  {
   "cell_type": "code",
   "execution_count": 58,
   "metadata": {},
   "outputs": [
    {
     "name": "stdout",
     "output_type": "stream",
     "text": [
      "[3, 4, 5, 6, 7, 8, 9]\n",
      "[3, 5, 7, 9]\n",
      "[3, 6, 9]\n",
      "[1, 3, 5, 7, 9]\n",
      "[3, 6, 9]\n",
      "[1, 3, 5, 7, 9]\n"
     ]
    }
   ],
   "source": [
    "mylist = [1, 2, 3, 4, 5, 6, 7, 8, 9, 10]\n",
    "\n",
    "# from 3rd element till 9th element\n",
    "print(mylist[2:9])\n",
    "\n",
    "# from 3rd element till 9th element in step 2\n",
    "print(mylist[2:9:2])\n",
    "\n",
    "# from 3rd element till 9th element in step 3\n",
    "print(mylist[2:9:3])\n",
    "\n",
    "# from start till 9th element in step 2\n",
    "print(mylist[:9:2])\n",
    "\n",
    "# from 3rd element till end in step 3\n",
    "print(mylist[2::3])\n",
    "\n",
    "# elements from start till end in step 2\n",
    "print(mylist[::2])"
   ]
  },
  {
   "cell_type": "code",
   "execution_count": 59,
   "metadata": {},
   "outputs": [
    {
     "name": "stdout",
     "output_type": "stream",
     "text": [
      "[10, 9, 8, 7, 6, 5, 4, 3, 2, 1]\n",
      "[10, 8, 6, 4, 2]\n"
     ]
    }
   ],
   "source": [
    "mylist = [1, 2, 3, 4, 5, 6, 7, 8, 9, 10]\n",
    "\n",
    "# reversed list\n",
    "print(mylist[::-1])\n",
    "\n",
    "# reversed list with step -2\n",
    "print(mylist[:-2:])"
   ]
  },
  {
   "cell_type": "code",
   "execution_count": 60,
   "metadata": {},
   "outputs": [
    {
     "name": "stdout",
     "output_type": "stream",
     "text": [
      "[1, 2, 0, 4, 5, 6]\n"
     ]
    }
   ],
   "source": [
    "#Changing Elements of List in Python\n",
    "#Changing a Single Element of List in Python\n",
    "\n",
    "mylist = [1, 2, 3, 4, 5, 6]\n",
    "mylist[2] = 0  # changing 3rd element, at index 2\n",
    "print(mylist)  # printing changed list"
   ]
  },
  {
   "cell_type": "code",
   "execution_count": 17,
   "metadata": {},
   "outputs": [
    {
     "name": "stdout",
     "output_type": "stream",
     "text": [
      "[1, 2, 10, 11, 12, 6]\n"
     ]
    }
   ],
   "source": [
    "#Changing range of elements in Python List\n",
    "mylist = [1, 2, 3, 4, 5, 6]\n",
    "mylist[2:5] = [10, 11, 12]  # changing 3rd to 5th elements\n",
    "print(mylist)  # printing changed list"
   ]
  },
  {
   "cell_type": "code",
   "execution_count": 7,
   "metadata": {},
   "outputs": [
    {
     "name": "stdout",
     "output_type": "stream",
     "text": [
      "[1, 2, 3, 4]\n",
      "[1, 2, 3, 4, 20]\n",
      "[1, 2, 3, 4, 20, 50]\n"
     ]
    }
   ],
   "source": [
    "a = [1,2,3,4]\n",
    "print(a)\n",
    "a.append(20)\n",
    "print(a)\n",
    "a.append(50)\n",
    "print(a)"
   ]
  },
  {
   "cell_type": "code",
   "execution_count": 18,
   "metadata": {},
   "outputs": [
    {
     "name": "stdout",
     "output_type": "stream",
     "text": [
      "[1, 2, 3, 4, 5]\n"
     ]
    }
   ],
   "source": [
    "#Adding Elements to Python List\n",
    "#Adding a Single Element to Python List\n",
    "mylist = [1, 2, 3, 4]\n",
    "mylist.append(5)  # 5 is added to the list\n",
    "print(mylist)  # printing changed list"
   ]
  },
  {
   "cell_type": "code",
   "execution_count": 9,
   "metadata": {},
   "outputs": [
    {
     "name": "stdout",
     "output_type": "stream",
     "text": [
      "[1, 2, 3, 4]\n",
      "[1, 2, 10, 3, 4]\n"
     ]
    }
   ],
   "source": [
    "a = [1,2,3,4]\n",
    "print(a)\n",
    "a.insert(2 , 10)\n",
    "print(a)"
   ]
  },
  {
   "cell_type": "code",
   "execution_count": 19,
   "metadata": {},
   "outputs": [
    {
     "name": "stdout",
     "output_type": "stream",
     "text": [
      "[1, 2, 5, 3, 4]\n"
     ]
    }
   ],
   "source": [
    "mylist = [1, 2, 3, 4]\n",
    "mylist.insert(2, 5)  # adding 5 at index 2 of the list\n",
    "print(mylist)  # printing changed list"
   ]
  },
  {
   "cell_type": "code",
   "execution_count": 10,
   "metadata": {},
   "outputs": [
    {
     "name": "stdout",
     "output_type": "stream",
     "text": [
      "[1, 2, 3, 4, 10, 100]\n"
     ]
    }
   ],
   "source": [
    "a = [1 , 2 , 3 , 4]\n",
    "a.extend([10,100])\n",
    "print(a)"
   ]
  },
  {
   "cell_type": "code",
   "execution_count": 13,
   "metadata": {},
   "outputs": [
    {
     "name": "stdout",
     "output_type": "stream",
     "text": [
      "[10, 11, 12, 1, 3, 4]\n"
     ]
    }
   ],
   "source": [
    "a = [1 , 3 , 4]\n",
    "b = [10 , 11 , 12]\n",
    "b.extend(a)\n",
    "print(b)"
   ]
  },
  {
   "cell_type": "code",
   "execution_count": 2,
   "metadata": {},
   "outputs": [
    {
     "name": "stdout",
     "output_type": "stream",
     "text": [
      "[1, 2, 3, 4, 5, 6, 7]\n"
     ]
    }
   ],
   "source": [
    "#Adding Multiple Elements to Python List\n",
    "mylist = [1, 2, 3, 4]\n",
    "mylist.extend([5, 6, 7])  # 5, 6 and 7 are added to the list\n",
    "print(mylist)  # printing changed list"
   ]
  },
  {
   "cell_type": "code",
   "execution_count": 1,
   "metadata": {},
   "outputs": [
    {
     "name": "stdout",
     "output_type": "stream",
     "text": [
      "[1, 2, 3]\n",
      "[1, 2, 3, 4, 5]\n"
     ]
    }
   ],
   "source": [
    "mylist1 = [1, 2, 3]\n",
    "mylist2 = [4, 5]\n",
    "mylist3 = mylist1+mylist2\n",
    "print(mylist1)\n",
    "print(mylist3)"
   ]
  },
  {
   "cell_type": "code",
   "execution_count": 5,
   "metadata": {},
   "outputs": [
    {
     "name": "stdout",
     "output_type": "stream",
     "text": [
      "[1, 2, 5, 6, 7]\n"
     ]
    }
   ],
   "source": [
    "# adding multiple position at the specific position\n",
    "mylist = [1, 2, 3, 4]\n",
    "mylist[2:] = [5, 6, 7]  # adding 5, 6 and 7 starting from index 2 of the list\n",
    "print(mylist)  # printing changed list"
   ]
  },
  {
   "cell_type": "code",
   "execution_count": 12,
   "metadata": {},
   "outputs": [
    {
     "name": "stdout",
     "output_type": "stream",
     "text": [
      "[1, 2, 5, 6, 7, 89, 79, 56, 90]\n"
     ]
    }
   ],
   "source": [
    "mylist = [1,2,3,4,8,89,79,56,90]\n",
    "mylist[2:5] = [5, 6, 7] \n",
    "print(mylist)"
   ]
  },
  {
   "cell_type": "code",
   "execution_count": 4,
   "metadata": {},
   "outputs": [
    {
     "name": "stdout",
     "output_type": "stream",
     "text": [
      "['Blue', 'Green', 'Orange', 'Yellow', 'Brown']\n"
     ]
    }
   ],
   "source": [
    "#Python Deleting Elements from List\n",
    "colors = [\"Blue\", \"Green\", \"Red\", \"Orange\", \"Yellow\", \"Brown\"]\n",
    "del colors[2]  # deleting 3rd element\n",
    "print(colors)"
   ]
  },
  {
   "cell_type": "code",
   "execution_count": 20,
   "metadata": {},
   "outputs": [
    {
     "name": "stdout",
     "output_type": "stream",
     "text": [
      "['Blue', 'Green', 'Yellow', 'Brown']\n"
     ]
    }
   ],
   "source": [
    "colors = [\"Blue\", \"Green\", \"Red\", \"Orange\", \"Yellow\", \"Brown\"]\n",
    "del colors[2:4]  # deleting from 3rd element to fourth element\n",
    "print(colors)"
   ]
  },
  {
   "cell_type": "code",
   "execution_count": 7,
   "metadata": {},
   "outputs": [],
   "source": [
    "colors = [\"Blue\", \"Green\", \"Red\", \"Orange\", \"Yellow\", \"Brown\"]\n",
    "del colors  # deleting the list\n",
    "#print(colors)"
   ]
  },
  {
   "cell_type": "code",
   "execution_count": 20,
   "metadata": {},
   "outputs": [
    {
     "name": "stdout",
     "output_type": "stream",
     "text": [
      "['Blue', 'Red', 'Orange', 'Yellow', 'Brown']\n"
     ]
    }
   ],
   "source": [
    "#Python remove()\n",
    "colors = [\"Blue\", \"Green\", \"Red\", \"Orange\", \"Yellow\", \"Brown\"]\n",
    "colors.remove('Green')  # removing \"Green\" from list\n",
    "print(colors)"
   ]
  },
  {
   "cell_type": "code",
   "execution_count": 6,
   "metadata": {},
   "outputs": [
    {
     "name": "stdout",
     "output_type": "stream",
     "text": [
      "['Blue', 'Red', 'Orange', 'Green', 'Brown']\n"
     ]
    }
   ],
   "source": [
    "colors = [\"Blue\", \"Green\", \"Red\", \"Orange\", \"Green\", \"Brown\"]\n",
    "colors.remove(\"Green\")  # removing \"Green\" occurring first from list\n",
    "print(colors)"
   ]
  },
  {
   "cell_type": "code",
   "execution_count": 17,
   "metadata": {},
   "outputs": [
    {
     "name": "stdout",
     "output_type": "stream",
     "text": [
      "[1, 2, 3]\n"
     ]
    }
   ],
   "source": [
    "a = [1 , 2 , 3 , 4]\n",
    "a.pop()\n",
    "#a.pop()\n",
    "print(a)"
   ]
  },
  {
   "cell_type": "code",
   "execution_count": 18,
   "metadata": {},
   "outputs": [
    {
     "data": {
      "text/plain": [
       "4"
      ]
     },
     "execution_count": 18,
     "metadata": {},
     "output_type": "execute_result"
    }
   ],
   "source": [
    "a = [1,2,3,4]\n",
    "a.pop(3)"
   ]
  },
  {
   "cell_type": "code",
   "execution_count": 22,
   "metadata": {},
   "outputs": [
    {
     "name": "stdout",
     "output_type": "stream",
     "text": [
      "Yellow\n",
      "['Blue', 'Green', 'Red', 'Orange', 'Brown']\n"
     ]
    }
   ],
   "source": [
    "#python pop()\n",
    "colors = [\"Blue\", \"Green\", \"Red\", \"Orange\", \"Yellow\", \"Brown\"]\n",
    "print(colors.pop(4))  # removing the 4th element from list and printing the removed element\n",
    "print(colors)  # printing updated list"
   ]
  },
  {
   "cell_type": "code",
   "execution_count": 8,
   "metadata": {},
   "outputs": [
    {
     "name": "stdout",
     "output_type": "stream",
     "text": [
      "Brown\n",
      "['Blue', 'Green', 'Red', 'Orange', 'Yellow']\n"
     ]
    }
   ],
   "source": [
    "colors = [\"Blue\", \"Green\", \"Red\", \"Orange\", \"Yellow\", \"Brown\"]\n",
    "print(colors.pop())  # removing the last element from list and printing the removed element\n",
    "print(colors)  # printing updated list"
   ]
  },
  {
   "cell_type": "code",
   "execution_count": 20,
   "metadata": {},
   "outputs": [
    {
     "name": "stdout",
     "output_type": "stream",
     "text": [
      "[1, 2, 3, 4]\n",
      "[]\n"
     ]
    }
   ],
   "source": [
    "a = [1,2,3,4]\n",
    "print(a)\n",
    "a.clear()\n",
    "print(a)"
   ]
  },
  {
   "cell_type": "code",
   "execution_count": 9,
   "metadata": {},
   "outputs": [
    {
     "name": "stdout",
     "output_type": "stream",
     "text": [
      "[]\n"
     ]
    }
   ],
   "source": [
    "#Python clear()\n",
    "colors = [\"Blue\", \"Green\", \"Red\", \"Orange\", \"Yellow\", \"Brown\"]\n",
    "colors.clear()  # removing all element from list\n",
    "print(colors)  # printing updated list"
   ]
  },
  {
   "cell_type": "code",
   "execution_count": 22,
   "metadata": {},
   "outputs": [
    {
     "name": "stdout",
     "output_type": "stream",
     "text": [
      "[1, 2, 3, 'a', 'b', 'c', 'd']\n"
     ]
    }
   ],
   "source": [
    "#Python List Operations\n",
    "list1 = [1, 2, 3]\n",
    "list2 = ['a', 'b', 'c', 'd']\n",
    "list3 = list1 + list2\n",
    "print(list3)"
   ]
  },
  {
   "cell_type": "code",
   "execution_count": 23,
   "metadata": {},
   "outputs": [
    {
     "name": "stdout",
     "output_type": "stream",
     "text": [
      "[1, 2, 1, 2, 1, 2]\n"
     ]
    }
   ],
   "source": [
    "#repetation(*)\n",
    "list1 = [1, 2]\n",
    "list2 = list1 * 3\n",
    "print(list2)"
   ]
  },
  {
   "cell_type": "code",
   "execution_count": 24,
   "metadata": {},
   "outputs": [
    {
     "name": "stdout",
     "output_type": "stream",
     "text": [
      "True\n",
      "False\n",
      "False\n"
     ]
    }
   ],
   "source": [
    "#Python List Membership Test\n",
    "mylist = [1, 2, \"Blue\", \"Green\"]\n",
    "print(2 in mylist)\n",
    "print(4 in mylist)\n",
    "print(\"Green\" not in mylist)"
   ]
  },
  {
   "cell_type": "code",
   "execution_count": 23,
   "metadata": {},
   "outputs": [
    {
     "name": "stdout",
     "output_type": "stream",
     "text": [
      "Blue\n",
      "Green\n",
      "Red\n"
     ]
    }
   ],
   "source": [
    "#Python Iteration Through a List\n",
    "colors = [\"Blue\", \"Green\", \"Red\"]\n",
    "for i in colors:\n",
    "    print(i)"
   ]
  },
  {
   "cell_type": "code",
   "execution_count": 24,
   "metadata": {},
   "outputs": [
    {
     "name": "stdout",
     "output_type": "stream",
     "text": [
      "Blue\n",
      "Green\n",
      "Red\n"
     ]
    }
   ],
   "source": [
    "colors = [\"Blue\", \"Green\", \"Red\"]\n",
    "for i in range(len(colors)):\n",
    "    print(colors[i])"
   ]
  },
  {
   "cell_type": "code",
   "execution_count": 21,
   "metadata": {},
   "outputs": [
    {
     "name": "stdout",
     "output_type": "stream",
     "text": [
      "3\n"
     ]
    }
   ],
   "source": [
    "a = int(input())"
   ]
  },
  {
   "cell_type": "code",
   "execution_count": 30,
   "metadata": {},
   "outputs": [
    {
     "name": "stdout",
     "output_type": "stream",
     "text": [
      "1\n",
      "2\n",
      "3\n",
      "4\n",
      "5\n",
      "6\n",
      "7\n",
      "8\n",
      "9\n",
      "0\n",
      "[1, 2, 3, 4, 5, 6, 7, 8, 9, 0]\n"
     ]
    }
   ],
   "source": [
    "cor = []\n",
    "for i in range(10):\n",
    "    cor.append(int(input()))\n",
    "print(cor)\n",
    "               \n",
    "              "
   ]
  },
  {
   "cell_type": "code",
   "execution_count": 25,
   "metadata": {
    "scrolled": true
   },
   "outputs": [
    {
     "name": "stdout",
     "output_type": "stream",
     "text": [
      "Enter value of n[ 0 ]\n",
      "2\n",
      "Enter value of n[ 1 ]\n",
      "hfy\n",
      "Enter value of n[ 2 ]\n",
      "6\n",
      "Enter value of n[ 3 ]\n",
      "8.0\n",
      "Enter value of n[ 4 ]\n",
      "iguy\n",
      "['2', 'hfy', '6', '8.0', 'iguy']\n"
     ]
    }
   ],
   "source": [
    "mylist = []  # creating an empty list\n",
    "\n",
    "# appending values entered by user to list\n",
    "for i in range(5):\n",
    "    #print(\"Enter value of n[\", i, \"]\")\n",
    "    #mylist.append(input())\n",
    "    print(\"Enter value of n[\", i, \"]\")\n",
    "    mylist.append(input())\n",
    "# printing final list\n",
    "print(mylist)"
   ]
  },
  {
   "cell_type": "code",
   "execution_count": 26,
   "metadata": {},
   "outputs": [
    {
     "name": "stdout",
     "output_type": "stream",
     "text": [
      "1\n",
      "2\n",
      "[3, 4, 5]\n",
      "6\n"
     ]
    }
   ],
   "source": [
    "#Python 2D List (List inside List)\n",
    "mylist = [1, 2, [3, 4, 5], 6]\n",
    "print(mylist[0])\n",
    "print(mylist[1])\n",
    "print(mylist[2])\n",
    "print(mylist[3])"
   ]
  },
  {
   "cell_type": "code",
   "execution_count": 26,
   "metadata": {},
   "outputs": [
    {
     "name": "stdout",
     "output_type": "stream",
     "text": [
      "[]\n"
     ]
    }
   ],
   "source": [
    "#different ways to create lists\n",
    "mylist = list()\n",
    "print(mylist)"
   ]
  },
  {
   "cell_type": "code",
   "execution_count": 27,
   "metadata": {},
   "outputs": [
    {
     "name": "stdout",
     "output_type": "stream",
     "text": [
      "[1, 2, 3]\n"
     ]
    }
   ],
   "source": [
    "mytuple = (1, 2, 3)\n",
    "mylist = list(mytuple)\n",
    "print(mylist)\n"
   ]
  },
  {
   "cell_type": "code",
   "execution_count": 28,
   "metadata": {},
   "outputs": [
    {
     "name": "stdout",
     "output_type": "stream",
     "text": [
      "['p', 'y', 't', 'h', 'o', 'n']\n"
     ]
    }
   ],
   "source": [
    "mystring = \"python\"\n",
    "mylist = list(mystring)\n",
    "print(mylist)"
   ]
  },
  {
   "cell_type": "code",
   "execution_count": 29,
   "metadata": {},
   "outputs": [
    {
     "name": "stdout",
     "output_type": "stream",
     "text": [
      "[1, 2, 3, 4, 5, 6, 7, 8, 9, 10]\n"
     ]
    }
   ],
   "source": [
    "mylist = list(range(1, 11))\n",
    "print(mylist)"
   ]
  },
  {
   "cell_type": "code",
   "execution_count": 32,
   "metadata": {},
   "outputs": [
    {
     "name": "stdout",
     "output_type": "stream",
     "text": [
      "[1, 10, 3, 4]\n",
      "[1, 10, 3, 4]\n"
     ]
    }
   ],
   "source": [
    "#simple assignment\n",
    "a = [1, 2, 3, 4] \n",
    "b = a\n",
    "b[1] = 10\n",
    "print(a)\n",
    "print(b)"
   ]
  },
  {
   "cell_type": "code",
   "execution_count": 31,
   "metadata": {},
   "outputs": [
    {
     "name": "stdout",
     "output_type": "stream",
     "text": [
      "[1, 2, 3, 4]\n",
      "[1, 2, 3, 4]\n",
      "Original list: [10, 2, 3, 4]\n",
      "New list: [10, 2, 3, 4]\n"
     ]
    }
   ],
   "source": [
    "list1 = [1, 2, 3, 4]\n",
    "print(list1)\n",
    "list2 = list1\n",
    "print(list2)\n",
    "list2[0] = 10\n",
    "print(\"Original list:\", list1)\n",
    "print(\"New list:\", list2)"
   ]
  },
  {
   "cell_type": "code",
   "execution_count": 33,
   "metadata": {},
   "outputs": [
    {
     "name": "stdout",
     "output_type": "stream",
     "text": [
      "Original list: [1, 2, 3, 4]\n",
      "New list: [10, 2, 3, 4]\n"
     ]
    }
   ],
   "source": [
    "list1 = [1, 2, 3, 4]\n",
    "list2 = [1, 2, 3, 4]\n",
    "list3 = list1.copy()\n",
    "list3[0] = 10\n",
    "print(\"Original list:\", list1)\n",
    "print(\"New list:\", list3)"
   ]
  },
  {
   "cell_type": "code",
   "execution_count": 20,
   "metadata": {},
   "outputs": [
    {
     "name": "stdout",
     "output_type": "stream",
     "text": [
      "Original list: [1, 2, 3, 4]\n",
      "New list: [10, 2, 3, 4]\n"
     ]
    }
   ],
   "source": [
    "#copy using sl8icing operator\n",
    "list1 = [1, 2, 3, 4]\n",
    "list2 = list1[:]\n",
    "list2[0] = 10\n",
    "print(\"Original list:\", list1)\n",
    "print(\"New list:\", list2)"
   ]
  },
  {
   "cell_type": "code",
   "execution_count": 37,
   "metadata": {},
   "outputs": [
    {
     "name": "stdout",
     "output_type": "stream",
     "text": [
      "Original list: [1, 2, 3, 4]\n",
      "New list: [10, 2, 3, 4]\n"
     ]
    }
   ],
   "source": [
    "list1 = [1, 2, 3, 4]\n",
    "list2 = list(list1)\n",
    "list2[0] = 10\n",
    "print(\"Original list:\", list1)\n",
    "print(\"New list:\", list2)"
   ]
  },
  {
   "cell_type": "code",
   "execution_count": 38,
   "metadata": {},
   "outputs": [
    {
     "name": "stdout",
     "output_type": "stream",
     "text": [
      "Original list: [1, 2, 3, 4]\n",
      "New list: [10, 2, 3, 4]\n"
     ]
    }
   ],
   "source": [
    "list1 = [1, 2, 3, 4]\n",
    "list2 = []\n",
    "list2.extend(list1)\n",
    "list2[0] = 10\n",
    "print(\"Original list:\", list1)\n",
    "print(\"New list:\", list2)"
   ]
  },
  {
   "cell_type": "code",
   "execution_count": 39,
   "metadata": {},
   "outputs": [
    {
     "name": "stdout",
     "output_type": "stream",
     "text": [
      "6\n"
     ]
    }
   ],
   "source": [
    "#builtin functions\n",
    "mylist = [1, 2, 3, 4, 5, 6]\n",
    "print(len(mylist))"
   ]
  },
  {
   "cell_type": "code",
   "execution_count": 40,
   "metadata": {},
   "outputs": [
    {
     "name": "stdout",
     "output_type": "stream",
     "text": [
      "6\n"
     ]
    }
   ],
   "source": [
    "mylist = [3, 2, 1, 5, 6, 4]\n",
    "print(max(mylist))"
   ]
  },
  {
   "cell_type": "code",
   "execution_count": 41,
   "metadata": {},
   "outputs": [
    {
     "name": "stdout",
     "output_type": "stream",
     "text": [
      "1\n"
     ]
    }
   ],
   "source": [
    "mylist = [3, 2, 1, 5, 4]\n",
    "print(min(mylist))"
   ]
  },
  {
   "cell_type": "code",
   "execution_count": 42,
   "metadata": {},
   "outputs": [
    {
     "name": "stdout",
     "output_type": "stream",
     "text": [
      "21\n"
     ]
    }
   ],
   "source": [
    "mylist = [3, 2, 1, 5, 6, 4]\n",
    "print(sum(mylist))"
   ]
  },
  {
   "cell_type": "code",
   "execution_count": 43,
   "metadata": {},
   "outputs": [
    {
     "name": "stdout",
     "output_type": "stream",
     "text": [
      "[1, 2, 3, 4, 5, 6]\n"
     ]
    }
   ],
   "source": [
    "mylist = [3, 2, 1, 5, 6, 4]\n",
    "print(sorted(mylist))"
   ]
  },
  {
   "cell_type": "code",
   "execution_count": 44,
   "metadata": {},
   "outputs": [
    {
     "name": "stdout",
     "output_type": "stream",
     "text": [
      "[1, 2, 3]\n"
     ]
    }
   ],
   "source": [
    "mytuple = (3, 2, 1)\n",
    "print(sorted(mytuple))"
   ]
  },
  {
   "cell_type": "code",
   "execution_count": 27,
   "metadata": {},
   "outputs": [
    {
     "name": "stdout",
     "output_type": "stream",
     "text": [
      "[1, 2, 3, 4, 5]\n"
     ]
    }
   ],
   "source": [
    "a = [5,4,3,2,1]\n",
    "a.sort()\n",
    "print(a)"
   ]
  },
  {
   "cell_type": "code",
   "execution_count": 1,
   "metadata": {},
   "outputs": [
    {
     "name": "stdout",
     "output_type": "stream",
     "text": [
      "[1, 2, 3, 4]\n"
     ]
    }
   ],
   "source": [
    "a = [4,3,1,2]\n",
    "a.sort()\n",
    "print(a)"
   ]
  },
  {
   "cell_type": "code",
   "execution_count": 45,
   "metadata": {},
   "outputs": [
    {
     "name": "stdout",
     "output_type": "stream",
     "text": [
      "[6, 5, 4, 3, 2, 1]\n"
     ]
    }
   ],
   "source": [
    "mylist = [3, 2, 1, 5, 6, 4]\n",
    "print(sorted(mylist, reverse=True))"
   ]
  },
  {
   "cell_type": "code",
   "execution_count": 31,
   "metadata": {},
   "outputs": [
    {
     "name": "stdout",
     "output_type": "stream",
     "text": [
      "2\n"
     ]
    }
   ],
   "source": [
    "languages = ['Python', 'C', 'Java', 'C++']\n",
    "print(languages.index('Java'))"
   ]
  },
  {
   "cell_type": "code",
   "execution_count": 30,
   "metadata": {},
   "outputs": [
    {
     "name": "stdout",
     "output_type": "stream",
     "text": [
      "2\n"
     ]
    }
   ],
   "source": [
    "languages = ['Python', 'C', 'Java', 'C++', 'Java']\n",
    "print(languages.index('Java'))"
   ]
  },
  {
   "cell_type": "code",
   "execution_count": 29,
   "metadata": {},
   "outputs": [
    {
     "name": "stdout",
     "output_type": "stream",
     "text": [
      "4\n",
      "2\n"
     ]
    }
   ],
   "source": [
    "languages = ['Python', 'C', 'Java', 'C++', 'Java', 'Perl']\n",
    "\n",
    "print(languages.index('Java', 3))  # 'Java' is searched after index 3\n",
    "print(languages.index('Java', 1, 3))  # 'Java' is searched between index 1 and index 3"
   ]
  },
  {
   "cell_type": "code",
   "execution_count": 28,
   "metadata": {},
   "outputs": [
    {
     "name": "stdout",
     "output_type": "stream",
     "text": [
      "2\n"
     ]
    }
   ],
   "source": [
    "languages = ['Python', 'C', 'Java', 'C++', 'Java']\n",
    "print(languages.count('Java'))"
   ]
  },
  {
   "cell_type": "code",
   "execution_count": 27,
   "metadata": {},
   "outputs": [
    {
     "name": "stdout",
     "output_type": "stream",
     "text": [
      "[10, 15, 20, 25, 30]\n"
     ]
    }
   ],
   "source": [
    "numbers = [10, 20, 15, 30, 25]\n",
    "numbers.sort() # sorting the elements\n",
    "print(numbers) # printing sorted list"
   ]
  },
  {
   "cell_type": "code",
   "execution_count": 11,
   "metadata": {},
   "outputs": [
    {
     "name": "stdout",
     "output_type": "stream",
     "text": [
      "['C', 'C++', 'Java', 'Perl', 'Python']\n"
     ]
    }
   ],
   "source": [
    "languages = ['Python', 'C', 'Java', 'C++', 'Perl']\n",
    "languages.sort() # sorting the elements in descending order\n",
    "print(languages) # printing sorted list"
   ]
  },
  {
   "cell_type": "code",
   "execution_count": 24,
   "metadata": {},
   "outputs": [
    {
     "name": "stdout",
     "output_type": "stream",
     "text": [
      "[10, 15, 20, 25, 30]\n"
     ]
    }
   ],
   "source": [
    "numbers = [10, 20, 15, 30, 25]\n",
    "numbers.sort() # sorting the elements\n",
    "print(numbers) # printing original list"
   ]
  },
  {
   "cell_type": "code",
   "execution_count": 23,
   "metadata": {},
   "outputs": [
    {
     "name": "stdout",
     "output_type": "stream",
     "text": [
      "Original list: [10, 20, 15, 30, 25]\n",
      "Updated list: [10, 15, 20, 25, 30]\n"
     ]
    }
   ],
   "source": [
    "numbers = [10, 20, 15, 30, 25]\n",
    "new_list = sorted(numbers) # sorting the elements of original list and returning the updated list\n",
    "print(\"Original list:\", numbers) # printing original list\n",
    "print(\"Updated list:\", new_list) # printing updated list"
   ]
  },
  {
   "cell_type": "code",
   "execution_count": 22,
   "metadata": {},
   "outputs": [
    {
     "name": "stdout",
     "output_type": "stream",
     "text": [
      "['C++', 'Java', 'C', 'Python']\n"
     ]
    }
   ],
   "source": [
    "languages = ['Python', 'C', 'Java', 'C++']\n",
    "languages.reverse()  # reversing the list\n",
    "print(languages)"
   ]
  },
  {
   "cell_type": "code",
   "execution_count": 38,
   "metadata": {},
   "outputs": [
    {
     "data": {
      "text/plain": [
       "['A', 'B']"
      ]
     },
     "execution_count": 38,
     "metadata": {},
     "output_type": "execute_result"
    }
   ],
   "source": [
    "# Indexing/Slicing\n",
    "\n",
    "alpha=[\"A\",\"B\",\"C\",\"D\",\"E\"]\n",
    "\n",
    "alpha[0:2]"
   ]
  },
  {
   "cell_type": "code",
   "execution_count": 39,
   "metadata": {},
   "outputs": [
    {
     "name": "stdout",
     "output_type": "stream",
     "text": [
      "['blue', 'B', 'C', 'D', 'E']\n"
     ]
    }
   ],
   "source": [
    "# Replace values\n",
    "\n",
    "alpha[0]=\"blue\"\n",
    "print(alpha)"
   ]
  },
  {
   "cell_type": "code",
   "execution_count": 42,
   "metadata": {},
   "outputs": [
    {
     "name": "stdout",
     "output_type": "stream",
     "text": [
      "[500, 400, 300, 200, 100]\n"
     ]
    }
   ],
   "source": [
    "aList = [100, 200, 300, 400, 500] #reverse entire list\n",
    "aList = aList[::-1]\n",
    "print(aList)"
   ]
  },
  {
   "cell_type": "code",
   "execution_count": 13,
   "metadata": {},
   "outputs": [
    {
     "name": "stdout",
     "output_type": "stream",
     "text": [
      "['My', 'name', 'is', 'lilly']\n"
     ]
    }
   ],
   "source": [
    "list1 = [\"M\", \"na\", \"i\", \"li\"] #concatinate list through index wise\n",
    "list2 = [\"y\", \"me\", \"s\", \"lly\"]\n",
    "list3 = [i + j for i, j in zip(list1, list2)]\n",
    "print(list3)"
   ]
  },
  {
   "cell_type": "code",
   "execution_count": 14,
   "metadata": {},
   "outputs": [
    {
     "name": "stdout",
     "output_type": "stream",
     "text": [
      "python\n",
      "Datascience\n",
      "Machine learning\n"
     ]
    }
   ],
   "source": [
    "#Loop Through the Index Numbers\n",
    "y = [\"python\", \"Datascience\", \"Machine learning\"]\n",
    "for i in range(len(y)):\n",
    "  print(y[i])"
   ]
  },
  {
   "cell_type": "code",
   "execution_count": 47,
   "metadata": {},
   "outputs": [
    {
     "name": "stdout",
     "output_type": "stream",
     "text": [
      "Java\n",
      "C#\n",
      "Ruby\n"
     ]
    }
   ],
   "source": [
    "#Using a While Loop\n",
    "a= [\"Java\", \"C#\", \"Ruby\"]\n",
    "i = 0\n",
    "while i < len(a):\n",
    "  print(a[i])\n",
    "  i = i + 1"
   ]
  },
  {
   "cell_type": "code",
   "execution_count": 16,
   "metadata": {},
   "outputs": [
    {
     "name": "stdout",
     "output_type": "stream",
     "text": [
      "{1, 2, 3}\n"
     ]
    }
   ],
   "source": [
    "a = [1,1,2,3]\n",
    "b = set(a)\n",
    "print(b)"
   ]
  },
  {
   "cell_type": "code",
   "execution_count": null,
   "metadata": {},
   "outputs": [],
   "source": [
    "ASSIGNMENT QUESTIONS\n",
    "\n",
    "# Take 10 integer inputs from user and store them in a list and print them on screen.\n",
    "\n",
    "# Write a program to find the sum of all elements of a list.\n",
    "\n",
    "# Write a program to find the product of all elements of a list.\n",
    "\n",
    "# Write a Python code that takes input from the user and displays that input back in upper and lower cases\n",
    "\n",
    "# write a python program to remove duplicates from a list\n"
   ]
  },
  {
   "cell_type": "code",
   "execution_count": null,
   "metadata": {},
   "outputs": [],
   "source": [
    "@app.route(\"/submit\", methods = ['GET', 'POST'])\n",
    "def get_output():\n",
    "    if request.method == 'POST':\n",
    "        img = request.files['my_image']\n",
    "        img_path = \"pipeline/static/\" + img.filename\t\n",
    "\t\timg.save(img_path)\n",
    "        h,p = pipeline_model(img_path)\n",
    "        var = plt.imshow(h)\n",
    "        show_path = \"pipeline/static/upload\" + img.filename\t\n",
    "        var.save(show_path)\n",
    "    return render_template(\"index.html\", prediction = p, img_path = show_path)\n"
   ]
  },
  {
   "cell_type": "code",
   "execution_count": 3,
   "metadata": {},
   "outputs": [],
   "source": [
    "a = [1,2]"
   ]
  },
  {
   "cell_type": "code",
   "execution_count": null,
   "metadata": {},
   "outputs": [],
   "source": [
    "a."
   ]
  }
 ],
 "metadata": {
  "kernelspec": {
   "display_name": "Python 3 (ipykernel)",
   "language": "python",
   "name": "python3"
  },
  "language_info": {
   "codemirror_mode": {
    "name": "ipython",
    "version": 3
   },
   "file_extension": ".py",
   "mimetype": "text/x-python",
   "name": "python",
   "nbconvert_exporter": "python",
   "pygments_lexer": "ipython3",
   "version": "3.11.5"
  }
 },
 "nbformat": 4,
 "nbformat_minor": 4
}
