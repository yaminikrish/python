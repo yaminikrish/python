{
 "cells": [
  {
   "cell_type": "markdown",
   "metadata": {},
   "source": [
    "<a href=\"https://www.viharatech.com\"><img src=\"https://miro.medium.com/v2/resize:fit:828/format:webp/1*on2Bpj6A5gfd-CzaFOAZRA.jpeg\"></a>\n"
   ]
  },
  {
   "cell_type": "code",
   "execution_count": 1,
   "metadata": {},
   "outputs": [
    {
     "name": "stdout",
     "output_type": "stream",
     "text": [
      "Python\n",
      "<class 'str'>\n"
     ]
    }
   ],
   "source": [
    "mystring='Python'\n",
    "print(mystring)\n",
    "print(type(mystring))"
   ]
  },
  {
   "cell_type": "code",
   "execution_count": 4,
   "metadata": {},
   "outputs": [
    {
     "name": "stdout",
     "output_type": "stream",
     "text": [
      "This is a multiline string\n",
      "which is extended in two lines\n"
     ]
    }
   ],
   "source": [
    "#Python Multiline Strings\n",
    "mystring = '''This is a multiline string\n",
    "which is extended in two lines'''\n",
    "print(mystring)"
   ]
  },
  {
   "cell_type": "code",
   "execution_count": 6,
   "metadata": {},
   "outputs": [
    {
     "name": "stdout",
     "output_type": "stream",
     "text": [
      "This is a multiline string\n",
      "    which is extended in two lines\n"
     ]
    }
   ],
   "source": [
    "mystring = \"\"\"This is a multiline string\n",
    "    which is extended in two lines\"\"\"\n",
    "print(mystring)"
   ]
  },
  {
   "cell_type": "code",
   "execution_count": 9,
   "metadata": {},
   "outputs": [
    {
     "name": "stdout",
     "output_type": "stream",
     "text": [
      "P\n",
      "y\n",
      "t\n",
      "h\n",
      "o\n",
      "n\n"
     ]
    }
   ],
   "source": [
    "#Python Accessing Characters from String\n",
    "mystring = \"Python\"\n",
    "print(mystring[0])\n",
    "print(mystring[1])\n",
    "print(mystring[2])\n",
    "print(mystring[3])\n",
    "print(mystring[4])\n",
    "print(mystring[5])"
   ]
  },
  {
   "cell_type": "code",
   "execution_count": 12,
   "metadata": {},
   "outputs": [
    {
     "name": "stdout",
     "output_type": "stream",
     "text": [
      "P\n",
      "y\n",
      "t\n",
      "h\n",
      "o\n",
      "n\n",
      "n\n",
      "o\n",
      "h\n",
      "t\n",
      "y\n",
      "P\n"
     ]
    }
   ],
   "source": [
    "#Python Negative Index\n",
    "mystring = \"Python\"\n",
    "\n",
    "#accessing using indices\n",
    "print(mystring[0])\n",
    "print(mystring[1])\n",
    "print(mystring[2])\n",
    "print(mystring[3])\n",
    "print(mystring[4])\n",
    "print(mystring[5])\n",
    " \n",
    "# accessing using negative indices\n",
    "print(mystring[-1])\n",
    "print(mystring[-2])\n",
    "print(mystring[-3])\n",
    "print(mystring[-4])\n",
    "print(mystring[-5])\n",
    "print(mystring[-6])\n"
   ]
  },
  {
   "cell_type": "code",
   "execution_count": 13,
   "metadata": {},
   "outputs": [
    {
     "name": "stdout",
     "output_type": "stream",
     "text": [
      "thon\n"
     ]
    }
   ],
   "source": [
    "#Python String Slicing\n",
    "mystring = \"Pythonprogram\"\n",
    "print(mystring[2:6])"
   ]
  },
  {
   "cell_type": "code",
   "execution_count": 4,
   "metadata": {},
   "outputs": [
    {
     "name": "stdout",
     "output_type": "stream",
     "text": [
      "Pythonprogr\n",
      "gr\n"
     ]
    }
   ],
   "source": [
    "mystring = \"Pythonprogram\"\n",
    "print(mystring[:-2])\n",
    "print(mystring[-4:-2])"
   ]
  },
  {
   "cell_type": "code",
   "execution_count": 15,
   "metadata": {},
   "outputs": [
    {
     "name": "stdout",
     "output_type": "stream",
     "text": [
      "ytho\n",
      "Pytho\n",
      "onprogram\n",
      "Pythonprogr\n",
      "gr\n",
      "thonprogr\n",
      "Pythonprogram\n"
     ]
    }
   ],
   "source": [
    "mystring = \"Pythonprogram\"\n",
    " \n",
    "# from 2nd character till 5th character\n",
    "print(mystring[1:5])\n",
    " \n",
    "# from start till 5th character\n",
    "print(mystring[:5])\n",
    " \n",
    "# from 5th character till end\n",
    "print(mystring[4:])\n",
    " \n",
    "# from start till 3rd last character\n",
    "print(mystring[:-2])\n",
    " \n",
    "# from 4th last character till 3rd last character\n",
    "print(mystring[-4:-2])\n",
    " \n",
    "# from 3rd character till 3rd last character\n",
    "print(mystring[2:-2])\n",
    " \n",
    "# all characters\n",
    "print(mystring[:])"
   ]
  },
  {
   "cell_type": "code",
   "execution_count": 6,
   "metadata": {},
   "outputs": [
    {
     "name": "stdout",
     "output_type": "stream",
     "text": [
      "1 3 5 7 9 "
     ]
    }
   ],
   "source": [
    "for i in range(1,11,2):\n",
    "    print(i,end=\" \")"
   ]
  },
  {
   "cell_type": "code",
   "execution_count": 9,
   "metadata": {},
   "outputs": [
    {
     "name": "stdout",
     "output_type": "stream",
     "text": [
      "[1, 2, 3, 4]\n"
     ]
    }
   ],
   "source": [
    "a = [1,2,3,4]\n",
    "print(a)"
   ]
  },
  {
   "cell_type": "code",
   "execution_count": 11,
   "metadata": {},
   "outputs": [
    {
     "data": {
      "text/plain": [
       "[1, 4]"
      ]
     },
     "execution_count": 11,
     "metadata": {},
     "output_type": "execute_result"
    }
   ],
   "source": [
    "a = [1,2,3,4,5,6]\n",
    "a[::3]"
   ]
  },
  {
   "cell_type": "code",
   "execution_count": 10,
   "metadata": {},
   "outputs": [
    {
     "data": {
      "text/plain": [
       "[1, 3]"
      ]
     },
     "execution_count": 10,
     "metadata": {},
     "output_type": "execute_result"
    }
   ],
   "source": [
    "a[::2]"
   ]
  },
  {
   "cell_type": "code",
   "execution_count": 8,
   "metadata": {},
   "outputs": [
    {
     "data": {
      "text/plain": [
       "'Python Datascience'"
      ]
     },
     "execution_count": 8,
     "metadata": {},
     "output_type": "execute_result"
    }
   ],
   "source": [
    "a = 'Python Datascience'\n",
    "a[::1]"
   ]
  },
  {
   "cell_type": "code",
   "execution_count": 16,
   "metadata": {},
   "outputs": [
    {
     "name": "stdout",
     "output_type": "stream",
     "text": [
      "ythonpro\n",
      "yhnr\n",
      "yor\n"
     ]
    }
   ],
   "source": [
    "mystring = \"Pythonprogramming\"\n",
    " \n",
    "# from 2nd character till 9th character\n",
    "print(mystring[1:9])\n",
    " \n",
    "# from 2nd character till 9th character in step 2\n",
    "print(mystring[1:9:2])\n",
    " \n",
    "# from 2nd character till 9th character in step 3\n",
    "print(mystring[1:9:3])"
   ]
  },
  {
   "cell_type": "code",
   "execution_count": 17,
   "metadata": {},
   "outputs": [
    {
     "name": "stdout",
     "output_type": "stream",
     "text": [
      "thonpro\n",
      "topo\n",
      "tno\n",
      "Ptopo\n",
      "tnoa\n",
      "Ptoporm\n"
     ]
    }
   ],
   "source": [
    "mystring = \"Pythonprogram\"\n",
    " \n",
    "# from 3rd character till 9th character\n",
    "print(mystring[2:9])\n",
    " \n",
    "# from 3rd character till 9th character in step 2\n",
    "print(mystring[2:9:2])\n",
    " \n",
    "# from 3rd character till 9th character in step 3\n",
    "print(mystring[2:9:3])\n",
    " \n",
    "# from start till 9th character in step 2\n",
    "print(mystring[:9:2])\n",
    " \n",
    "# from 3rd character till end in step 3\n",
    "print(mystring[2::3])\n",
    " \n",
    "# characters from start till end in step 2\n",
    "print(mystring[::2])"
   ]
  },
  {
   "cell_type": "code",
   "execution_count": 21,
   "metadata": {},
   "outputs": [
    {
     "name": "stdout",
     "output_type": "stream",
     "text": [
      "margorpnohtyP\n",
      "nhy\n",
      "mropotP\n"
     ]
    }
   ],
   "source": [
    "mystring = \"Pythonprogram\"\n",
    "my=\"python\"\n",
    "# reversed string\n",
    "print(mystring[::-1])\n",
    " \n",
    "# reversed string with step -2\n",
    "print(my[::-2])\n",
    "print(mystring[::-2])"
   ]
  },
  {
   "cell_type": "code",
   "execution_count": 16,
   "metadata": {},
   "outputs": [
    {
     "name": "stdout",
     "output_type": "stream",
     "text": [
      "[1, 2, 3, 4]\n",
      "[1, 2, 10, 4]\n"
     ]
    }
   ],
   "source": [
    "a = [1,2,3,4]\n",
    "print(a)\n",
    "#type(a)\n",
    "a[2] = 10\n",
    "print(a)"
   ]
  },
  {
   "cell_type": "code",
   "execution_count": 22,
   "metadata": {},
   "outputs": [
    {
     "ename": "TypeError",
     "evalue": "'str' object does not support item assignment",
     "output_type": "error",
     "traceback": [
      "\u001b[1;31m---------------------------------------------------------------------------\u001b[0m",
      "\u001b[1;31mTypeError\u001b[0m                                 Traceback (most recent call last)",
      "\u001b[1;32m<ipython-input-22-684f15093fa5>\u001b[0m in \u001b[0;36m<module>\u001b[1;34m\u001b[0m\n\u001b[0;32m      1\u001b[0m \u001b[1;31m#Python Changing Characters of String\u001b[0m\u001b[1;33m\u001b[0m\u001b[1;33m\u001b[0m\u001b[1;33m\u001b[0m\u001b[0m\n\u001b[0;32m      2\u001b[0m \u001b[0mmystring\u001b[0m \u001b[1;33m=\u001b[0m \u001b[1;34m\"Pythonprogram\"\u001b[0m\u001b[1;33m\u001b[0m\u001b[1;33m\u001b[0m\u001b[0m\n\u001b[1;32m----> 3\u001b[1;33m \u001b[0mmystring\u001b[0m\u001b[1;33m[\u001b[0m\u001b[1;36m6\u001b[0m\u001b[1;33m]\u001b[0m \u001b[1;33m=\u001b[0m \u001b[1;34m\"a\"\u001b[0m\u001b[1;33m\u001b[0m\u001b[1;33m\u001b[0m\u001b[0m\n\u001b[0m",
      "\u001b[1;31mTypeError\u001b[0m: 'str' object does not support item assignment"
     ]
    }
   ],
   "source": [
    "#Python Changing Characters of String\n",
    "mystring = \"Pythonprogram\"\n",
    "mystring[6] = \"a\""
   ]
  },
  {
   "cell_type": "code",
   "execution_count": 1,
   "metadata": {},
   "outputs": [
    {
     "name": "stdout",
     "output_type": "stream",
     "text": [
      "datascience\n"
     ]
    }
   ],
   "source": [
    "mystring = \"Pythonprogramming\"\n",
    "mystring = \"datascience\"\n",
    "print(mystring)"
   ]
  },
  {
   "cell_type": "code",
   "execution_count": 24,
   "metadata": {},
   "outputs": [
    {
     "ename": "TypeError",
     "evalue": "'str' object doesn't support item deletion",
     "output_type": "error",
     "traceback": [
      "\u001b[1;31m---------------------------------------------------------------------------\u001b[0m",
      "\u001b[1;31mTypeError\u001b[0m                                 Traceback (most recent call last)",
      "\u001b[1;32m<ipython-input-24-df627d71c1c9>\u001b[0m in \u001b[0;36m<module>\u001b[1;34m\u001b[0m\n\u001b[0;32m      1\u001b[0m \u001b[1;31m#Python Deleting String\u001b[0m\u001b[1;33m\u001b[0m\u001b[1;33m\u001b[0m\u001b[1;33m\u001b[0m\u001b[0m\n\u001b[0;32m      2\u001b[0m \u001b[0mmystring\u001b[0m \u001b[1;33m=\u001b[0m \u001b[1;34m\"Pythonprogramming\"\u001b[0m\u001b[1;33m\u001b[0m\u001b[1;33m\u001b[0m\u001b[0m\n\u001b[1;32m----> 3\u001b[1;33m \u001b[1;32mdel\u001b[0m \u001b[0mmystring\u001b[0m\u001b[1;33m[\u001b[0m\u001b[1;36m6\u001b[0m\u001b[1;33m]\u001b[0m\u001b[1;33m\u001b[0m\u001b[1;33m\u001b[0m\u001b[0m\n\u001b[0m",
      "\u001b[1;31mTypeError\u001b[0m: 'str' object doesn't support item deletion"
     ]
    }
   ],
   "source": [
    "#Python Deleting String\n",
    "mystring = \"Pythonprogramming\"\n",
    "del mystring[6]"
   ]
  },
  {
   "cell_type": "code",
   "execution_count": 18,
   "metadata": {},
   "outputs": [
    {
     "ename": "NameError",
     "evalue": "name 'mystring' is not defined",
     "output_type": "error",
     "traceback": [
      "\u001b[1;31m---------------------------------------------------------------------------\u001b[0m",
      "\u001b[1;31mNameError\u001b[0m                                 Traceback (most recent call last)",
      "\u001b[1;32m<ipython-input-18-3ac131ea9f76>\u001b[0m in \u001b[0;36m<module>\u001b[1;34m\u001b[0m\n\u001b[0;32m      1\u001b[0m \u001b[0mmystring\u001b[0m \u001b[1;33m=\u001b[0m \u001b[1;34m\"javaprogramming\"\u001b[0m\u001b[1;33m\u001b[0m\u001b[1;33m\u001b[0m\u001b[0m\n\u001b[0;32m      2\u001b[0m \u001b[1;32mdel\u001b[0m \u001b[0mmystring\u001b[0m\u001b[1;33m\u001b[0m\u001b[1;33m\u001b[0m\u001b[0m\n\u001b[1;32m----> 3\u001b[1;33m \u001b[0mprint\u001b[0m\u001b[1;33m(\u001b[0m\u001b[0mmystring\u001b[0m\u001b[1;33m)\u001b[0m  \u001b[1;31m# printing the string after deleting it\u001b[0m\u001b[1;33m\u001b[0m\u001b[1;33m\u001b[0m\u001b[0m\n\u001b[0m",
      "\u001b[1;31mNameError\u001b[0m: name 'mystring' is not defined"
     ]
    }
   ],
   "source": [
    "mystring = \"javaprogramming\"\n",
    "del mystring\n",
    "print(mystring)  # printing the string after deleting it"
   ]
  },
  {
   "cell_type": "code",
   "execution_count": 19,
   "metadata": {},
   "outputs": [
    {
     "name": "stdout",
     "output_type": "stream",
     "text": [
      "The value of string1 is  python the value of string2 is program\n",
      "pythonprogram\n"
     ]
    }
   ],
   "source": [
    "#Python String Operations\n",
    "#Python String Concatenation (+)\n",
    "string1 = \"python\"\n",
    "string2 = \"program\"\n",
    "string3 = string1 +string2\n",
    "print(\"The value of string1 is \"+\" \"+ string1 +\" the value of string2 is \"+string2)\n",
    "print(string3)\n"
   ]
  },
  {
   "cell_type": "code",
   "execution_count": 21,
   "metadata": {},
   "outputs": [
    {
     "data": {
      "text/plain": [
       "'aaaaaaaaaa'"
      ]
     },
     "execution_count": 21,
     "metadata": {},
     "output_type": "execute_result"
    }
   ],
   "source": [
    "a = 'a' * 10\n",
    "a"
   ]
  },
  {
   "cell_type": "code",
   "execution_count": 27,
   "metadata": {},
   "outputs": [
    {
     "name": "stdout",
     "output_type": "stream",
     "text": [
      "PythonPythonPython\n"
     ]
    }
   ],
   "source": [
    "#Python String Repetition (*)\n",
    "string1 = \"Python\"\n",
    "string2 = string1 * 3\n",
    "print(string2)"
   ]
  },
  {
   "cell_type": "code",
   "execution_count": 23,
   "metadata": {},
   "outputs": [
    {
     "name": "stdout",
     "output_type": "stream",
     "text": [
      "True\n",
      "True\n",
      "False\n",
      "False\n"
     ]
    }
   ],
   "source": [
    "#Python String Membership Test\n",
    "mystring = \"python and data science\"\n",
    "print(\"n and \" in mystring)\n",
    "print(\"python\" in mystring)\n",
    "print('kamal' in mystring)\n",
    "print(\"data science\"  not in mystring)"
   ]
  },
  {
   "cell_type": "code",
   "execution_count": 27,
   "metadata": {},
   "outputs": [
    {
     "name": "stdout",
     "output_type": "stream",
     "text": [
      "False\n"
     ]
    }
   ],
   "source": [
    "a = 'ab'   # a = 97 , b = 98 , c = 99 ... a = 97 + 98 = 195  , b = 65 + 66 = 131\n",
    "b = 'AB'    # A = 65 , B = 66 ....\n",
    "print(a<b) # o/p will boolean expression True or False "
   ]
  },
  {
   "cell_type": "code",
   "execution_count": 8,
   "metadata": {},
   "outputs": [
    {
     "name": "stdout",
     "output_type": "stream",
     "text": [
      "False\n",
      "True\n",
      "False\n",
      "True\n",
      "False\n",
      "True\n"
     ]
    }
   ],
   "source": [
    "#Python String Comparison\n",
    "string1 = \"Datascience\"   #a=97 and z=122 #A=65 Z=90\n",
    "string2 = \"Python\" \n",
    "\n",
    "print(string1 == string2)\n",
    "print(string1 != string2)\n",
    "print(string1 > string2)\n",
    "print(string1 < string2)\n",
    "print(string1 >= string2)\n",
    "print(string1 <= string2)"
   ]
  },
  {
   "cell_type": "code",
   "execution_count": 13,
   "metadata": {},
   "outputs": [
    {
     "name": "stdout",
     "output_type": "stream",
     "text": [
      "True\n"
     ]
    }
   ],
   "source": [
    "a='ab'\n",
    "b='AB'\n",
    "print(a>b)"
   ]
  },
  {
   "cell_type": "code",
   "execution_count": 44,
   "metadata": {},
   "outputs": [
    {
     "name": "stdout",
     "output_type": "stream",
     "text": [
      "False\n",
      "True\n",
      "False\n",
      "True\n"
     ]
    }
   ],
   "source": [
    "string1 = \"Hat\"\n",
    "string2 = \"hat\"\n",
    "\n",
    "print(string1 == string2)\n",
    "print(string1 != string2)\n",
    "print(string1 > string2)\n",
    "print(string1 < string2)"
   ]
  },
  {
   "cell_type": "code",
   "execution_count": 45,
   "metadata": {},
   "outputs": [
    {
     "name": "stdout",
     "output_type": "stream",
     "text": [
      "False\n",
      "True\n",
      "False\n",
      "True\n",
      "False\n",
      "True\n"
     ]
    }
   ],
   "source": [
    "string1 = \"Hat\"\n",
    "string2 = \"Heat\"\n",
    "\n",
    "print(string1 == string2)\n",
    "print(string1 != string2)\n",
    "print(string1 > string2)\n",
    "print(string1 < string2)\n",
    "print(string1 >= string2)\n",
    "print(string1 <= string2)"
   ]
  },
  {
   "cell_type": "code",
   "execution_count": 46,
   "metadata": {},
   "outputs": [
    {
     "name": "stdout",
     "output_type": "stream",
     "text": [
      "p\n",
      "y\n",
      "t\n",
      "h\n",
      "o\n",
      "n\n"
     ]
    }
   ],
   "source": [
    "#Python Iteration Through a String\n",
    "mystring = \"python\"\n",
    "for i in mystring:\n",
    "    print(i)"
   ]
  },
  {
   "cell_type": "code",
   "execution_count": 47,
   "metadata": {},
   "outputs": [
    {
     "name": "stdout",
     "output_type": "stream",
     "text": [
      "p\n",
      "y\n",
      "t\n",
      "h\n",
      "o\n",
      "n\n"
     ]
    }
   ],
   "source": [
    "mystring = \"python\"\n",
    "for i in range(len(mystring)):\n",
    "    print(mystring[i])"
   ]
  },
  {
   "cell_type": "code",
   "execution_count": 48,
   "metadata": {},
   "outputs": [
    {
     "ename": "SyntaxError",
     "evalue": "invalid syntax (<ipython-input-48-d4cc3babe2c6>, line 2)",
     "output_type": "error",
     "traceback": [
      "\u001b[1;36m  File \u001b[1;32m\"<ipython-input-48-d4cc3babe2c6>\"\u001b[1;36m, line \u001b[1;32m2\u001b[0m\n\u001b[1;33m    mystring = \"This is \"Python\" course\"\u001b[0m\n\u001b[1;37m                         ^\u001b[0m\n\u001b[1;31mSyntaxError\u001b[0m\u001b[1;31m:\u001b[0m invalid syntax\n"
     ]
    }
   ],
   "source": [
    "#Using Quotes in Python String\n",
    "mystring = \"This is \"Python\" course\"\n",
    "print(mystring)"
   ]
  },
  {
   "cell_type": "code",
   "execution_count": 49,
   "metadata": {},
   "outputs": [
    {
     "name": "stdout",
     "output_type": "stream",
     "text": [
      "This is \"Python\" course\n"
     ]
    }
   ],
   "source": [
    "mystring = 'This is \"Python\" course'\n",
    "print(mystring)"
   ]
  },
  {
   "cell_type": "code",
   "execution_count": 50,
   "metadata": {},
   "outputs": [
    {
     "name": "stdout",
     "output_type": "stream",
     "text": [
      "This is 'Python' course\n"
     ]
    }
   ],
   "source": [
    "mystring = \"This is 'Python' course\"\n",
    "print(mystring)"
   ]
  },
  {
   "cell_type": "code",
   "execution_count": 54,
   "metadata": {},
   "outputs": [
    {
     "name": "stdout",
     "output_type": "stream",
     "text": [
      "['C', 'o', 'd', 'i', 'n', 'g']\n"
     ]
    }
   ],
   "source": [
    "#Creating List from String in Python\n",
    "mystring = \"Coding\"\n",
    "mylist = list(mystring)\n",
    "print(mylist)"
   ]
  },
  {
   "cell_type": "code",
   "execution_count": 29,
   "metadata": {},
   "outputs": [
    {
     "name": "stdout",
     "output_type": "stream",
     "text": [
      "['Have', 'a', 'good', 'day']\n"
     ]
    }
   ],
   "source": [
    "mystring = \"Have a good day\"\n",
    "print(mystring.split(\" \"))"
   ]
  },
  {
   "cell_type": "code",
   "execution_count": 30,
   "metadata": {},
   "outputs": [
    {
     "name": "stdout",
     "output_type": "stream",
     "text": [
      "['Have', 'a', 'good', 'day']\n"
     ]
    }
   ],
   "source": [
    "mystring = \"Have a good day\"\n",
    "print(mystring.split())"
   ]
  },
  {
   "cell_type": "code",
   "execution_count": 38,
   "metadata": {},
   "outputs": [
    {
     "name": "stdout",
     "output_type": "stream",
     "text": [
      "language programming love i\n"
     ]
    }
   ],
   "source": [
    "a = 'i.love.programming.language'\n",
    "# language programming love i \n",
    "\n",
    "b = a.split(\".\")\n",
    "c = b[::-1]\n",
    "d = \" \".join(c)\n",
    "\n",
    "print(d)\n"
   ]
  },
  {
   "cell_type": "code",
   "execution_count": 39,
   "metadata": {},
   "outputs": [
    {
     "name": "stdout",
     "output_type": "stream",
     "text": [
      "['Python', 'Datascience.C.java.C#.Ruby']\n",
      "['Python', 'Datascience', 'C', 'java.C#.Ruby']\n",
      "['Python', 'Datascience', 'C.java.C#.Ruby']\n",
      "['Python.Datascience.C.java.C#.Ruby']\n",
      "['Python', 'Datascience', 'C', 'java', 'C#', 'Ruby']\n"
     ]
    }
   ],
   "source": [
    "mystring = \"Python.Datascience.C.java.C#.Ruby\" \n",
    "\n",
    "print(mystring.split(\".\", 1))  # maxsplit = 1 #splits from left\n",
    "print(mystring.split(\".\", 3))  # maxsplit = 3\n",
    "print(mystring.split(\".\", 2))  # maxsplit = 2\n",
    "print(mystring.split(\".\", 0))  # maxsplit = 0\n",
    "print(mystring.split(\".\"))  # no maxsplit"
   ]
  },
  {
   "cell_type": "code",
   "execution_count": 1,
   "metadata": {},
   "outputs": [
    {
     "name": "stdout",
     "output_type": "stream",
     "text": [
      "14\n"
     ]
    }
   ],
   "source": [
    "#Built-in Functions in Python strings\n",
    "mystring = \"Hello learners\"\n",
    "print(len(mystring))"
   ]
  },
  {
   "cell_type": "code",
   "execution_count": 41,
   "metadata": {},
   "outputs": [
    {
     "data": {
      "text/plain": [
       "'Abcd'"
      ]
     },
     "execution_count": 41,
     "metadata": {},
     "output_type": "execute_result"
    }
   ],
   "source": [
    "string1 = 'abcd'\n",
    "string1.capitalize()"
   ]
  },
  {
   "cell_type": "code",
   "execution_count": 62,
   "metadata": {},
   "outputs": [
    {
     "name": "stdout",
     "output_type": "stream",
     "text": [
      "Original string: hEy tHEre PYthon!\n",
      "Updated string: Hey there python!\n"
     ]
    }
   ],
   "source": [
    "#python capitalize()\n",
    "mystring = \"hEy tHEre PYthon!\"\n",
    "new_string = mystring.capitalize()\n",
    "print(\"Original string:\", mystring) # printing original string\n",
    "print(\"Updated string:\", new_string) # printing updated string"
   ]
  },
  {
   "cell_type": "code",
   "execution_count": 42,
   "metadata": {},
   "outputs": [
    {
     "data": {
      "text/plain": [
       "'abcd'"
      ]
     },
     "execution_count": 42,
     "metadata": {},
     "output_type": "execute_result"
    }
   ],
   "source": [
    "a = 'ABCD'\n",
    "a.lower()"
   ]
  },
  {
   "cell_type": "code",
   "execution_count": 64,
   "metadata": {},
   "outputs": [
    {
     "name": "stdout",
     "output_type": "stream",
     "text": [
      "Original string: hEy tHEre PYthon!\n",
      "Updated string: hey there python!\n"
     ]
    }
   ],
   "source": [
    "#python lower()\n",
    "mystring = \"hEy tHEre PYthon!\"\n",
    "new_string = mystring.lower()\n",
    "print(\"Original string:\", mystring) # printing original string\n",
    "print(\"Updated string:\", new_string) # printing updated string"
   ]
  },
  {
   "cell_type": "code",
   "execution_count": 43,
   "metadata": {},
   "outputs": [
    {
     "data": {
      "text/plain": [
       "'ABCD'"
      ]
     },
     "execution_count": 43,
     "metadata": {},
     "output_type": "execute_result"
    }
   ],
   "source": [
    "a = 'abcd'\n",
    "a.upper()"
   ]
  },
  {
   "cell_type": "code",
   "execution_count": 65,
   "metadata": {},
   "outputs": [
    {
     "name": "stdout",
     "output_type": "stream",
     "text": [
      "Original string: hEy tHEre PYthon!\n",
      "Updated string: HEY THERE PYTHON!\n"
     ]
    }
   ],
   "source": [
    "#python upper()\n",
    "mystring = \"hEy tHEre PYthon!\"\n",
    "new_string = mystring.upper()\n",
    "print(\"Original string:\", mystring) # printing original string\n",
    "print(\"Updated string:\", new_string) # printing updated string"
   ]
  },
  {
   "cell_type": "code",
   "execution_count": 44,
   "metadata": {},
   "outputs": [
    {
     "name": "stdout",
     "output_type": "stream",
     "text": [
      "Original string: abcd\n",
      "Updated string: ABCD\n"
     ]
    }
   ],
   "source": [
    "#python swapcase()\n",
    "mystring = \"abcd\"\n",
    "new_string = mystring.swapcase()\n",
    "print(\"Original string:\", mystring) # printing original string\n",
    "print(\"Updated string:\", new_string) # printing updated string"
   ]
  },
  {
   "cell_type": "code",
   "execution_count": 44,
   "metadata": {},
   "outputs": [
    {
     "data": {
      "text/plain": [
       "'Abcd'"
      ]
     },
     "execution_count": 44,
     "metadata": {},
     "output_type": "execute_result"
    }
   ],
   "source": [
    "a = 'abcd'\n",
    "a.title()"
   ]
  },
  {
   "cell_type": "code",
   "execution_count": 45,
   "metadata": {},
   "outputs": [
    {
     "name": "stdout",
     "output_type": "stream",
     "text": [
      "Original string: abcd\n",
      "Updated string: Abcd\n"
     ]
    }
   ],
   "source": [
    "#python title\n",
    "mystring = \"abcd\"\n",
    "new_string = mystring.title()\n",
    "print(\"Original string:\", mystring) # printing original string\n",
    "print(\"Updated string:\", new_string) # printing updated string"
   ]
  },
  {
   "cell_type": "code",
   "execution_count": 68,
   "metadata": {},
   "outputs": [
    {
     "name": "stdout",
     "output_type": "stream",
     "text": [
      "hEy tHEre PYthon!\n",
      "hEy;tHEre;PYthon!\n"
     ]
    }
   ],
   "source": [
    "#python join\n",
    "mystring = [\"hEy\", \"tHEre\", \"PYthon!\"]\n",
    "print(\" \".join(mystring))\n",
    "print(\";\".join(mystring))"
   ]
  },
  {
   "cell_type": "code",
   "execution_count": 46,
   "metadata": {},
   "outputs": [
    {
     "name": "stdout",
     "output_type": "stream",
     "text": [
      "7\n",
      "2\n"
     ]
    }
   ],
   "source": [
    "#python index\n",
    "mystring = \"I am a programmer\"\n",
    "print(mystring.index(\"prog\"))\n",
    "print(mystring.index(\"am\"))"
   ]
  },
  {
   "cell_type": "code",
   "execution_count": 74,
   "metadata": {},
   "outputs": [
    {
     "name": "stdout",
     "output_type": "stream",
     "text": [
      "2\n"
     ]
    }
   ],
   "source": [
    "mystring = \"I am a programmer\"\n",
    "print(mystring.index(\"am\"))"
   ]
  },
  {
   "cell_type": "code",
   "execution_count": 71,
   "metadata": {},
   "outputs": [
    {
     "name": "stdout",
     "output_type": "stream",
     "text": [
      "12\n",
      "2\n"
     ]
    }
   ],
   "source": [
    "mystring = \"I am a programmer\"   #first occurance is returned\n",
    "print(mystring.index(\"am\", 6)) # \"am\" is searched after index 6\n",
    "print(mystring.index(\"am\", 1, 6)) # \"am\" is searched between index 1 and index 6"
   ]
  },
  {
   "cell_type": "code",
   "execution_count": 34,
   "metadata": {},
   "outputs": [
    {
     "name": "stdout",
     "output_type": "stream",
     "text": [
      "I was a progrwasmer\n"
     ]
    }
   ],
   "source": [
    "#Python replace()\n",
    "mystring = \"I am a programmer\"\n",
    "print(mystring.replace(\"am\", \"was\"))"
   ]
  },
  {
   "cell_type": "code",
   "execution_count": 2,
   "metadata": {},
   "outputs": [
    {
     "name": "stdout",
     "output_type": "stream",
     "text": [
      "I cry, you cry, we all cry for ice cream\n",
      "I cry, you cry, we all scream for ice cream\n"
     ]
    }
   ],
   "source": [
    "mystring = \"I scream, you scream, we all scream for ice cream\"\n",
    "print(mystring.replace(\"scream\", \"cry\"))  # all occurrences of scream get replaced\n",
    "print(mystring.replace(\"scream\", \"cry\", 2))  # first two occurrences of scream get replaced"
   ]
  },
  {
   "cell_type": "code",
   "execution_count": 32,
   "metadata": {},
   "outputs": [
    {
     "name": "stdout",
     "output_type": "stream",
     "text": [
      "Does string1 contain only alphabets? True\n",
      "Does string2 contain only alphabets? False\n",
      "Does string3 contain only alphabets? True\n"
     ]
    }
   ],
   "source": [
    "#python isapha()\n",
    "string1 = \"AbcdEf\"\n",
    "string2 = \"Abcd123dE\"  # contains a space\n",
    "string3 = \"AbcddE\"  # contains numbers\n",
    "\n",
    "print(\"Does string1 contain only alphabets?\", string1.isalpha())\n",
    "print(\"Does string2 contain only alphabets?\", string2.isalpha())\n",
    "print(\"Does string3 contain only alphabets?\", string3.isalpha())"
   ]
  },
  {
   "cell_type": "code",
   "execution_count": 33,
   "metadata": {},
   "outputs": [
    {
     "name": "stdout",
     "output_type": "stream",
     "text": [
      "Does string1 contain only digits? True\n",
      "Does string2 contain only digits? False\n"
     ]
    }
   ],
   "source": [
    "#python isdigit()\n",
    "string1 = \"2274645\"\n",
    "string2 = \"Abcd123dE\"  # contains alphabets\n",
    "\n",
    "print(\"Does string1 contain only digits?\", string1.isdigit())\n",
    "print(\"Does string2 contain only digits?\", string2.isdigit())"
   ]
  },
  {
   "cell_type": "code",
   "execution_count": 83,
   "metadata": {},
   "outputs": [
    {
     "name": "stdout",
     "output_type": "stream",
     "text": [
      "Is string1 in lowercase? True\n",
      "Is string2 in lowercase? False\n"
     ]
    }
   ],
   "source": [
    "#python islower()\n",
    "string1 = \"coding\"\n",
    "string2 = \"Coding\"\n",
    "\n",
    "print(\"Is string1 in lowercase?\", string1.islower())\n",
    "print(\"Is string2 in lowercase?\", string2.islower())"
   ]
  },
  {
   "cell_type": "code",
   "execution_count": 84,
   "metadata": {},
   "outputs": [
    {
     "name": "stdout",
     "output_type": "stream",
     "text": [
      "Is string1 in lowercase? True\n",
      "Is string2 in lowercase? False\n"
     ]
    }
   ],
   "source": [
    "#python isupper()\n",
    "string1 = \"CODING\"\n",
    "string2 = \"Coding\"\n",
    "\n",
    "print(\"Is string1 in lowercase?\", string1.isupper())\n",
    "print(\"Is string2 in lowercase?\", string2.isupper())"
   ]
  },
  {
   "cell_type": "code",
   "execution_count": 28,
   "metadata": {},
   "outputs": [
    {
     "name": "stdout",
     "output_type": "stream",
     "text": [
      "I am programmer\n",
      "Hii, students your balence is 100\n"
     ]
    }
   ],
   "source": [
    "# .format() method\n",
    "\n",
    "print(\"I am {}\".format(\"programmer\"))\n",
    "print(\"Hii, {} your balence is {}\".format(\"students\",100))\n"
   ]
  },
  {
   "cell_type": "code",
   "execution_count": 47,
   "metadata": {},
   "outputs": [
    {
     "name": "stdout",
     "output_type": "stream",
     "text": [
      "courses are AI, Datscience, Python\n"
     ]
    }
   ],
   "source": [
    "print(\"courses are {a}, {b}, {c}\".format(b=\"Datscience\",c=\"Python\",a=\"AI\"))"
   ]
  },
  {
   "cell_type": "code",
   "execution_count": 48,
   "metadata": {},
   "outputs": [
    {
     "data": {
      "text/plain": [
       "14"
      ]
     },
     "execution_count": 48,
     "metadata": {},
     "output_type": "execute_result"
    }
   ],
   "source": [
    "a = \"python program\"\n",
    "len(a)"
   ]
  },
  {
   "cell_type": "code",
   "execution_count": 49,
   "metadata": {},
   "outputs": [
    {
     "name": "stdout",
     "output_type": "stream",
     "text": [
      "14\n"
     ]
    }
   ],
   "source": [
    "a = \"python program\"\n",
    "count = 0\n",
    "for i in a:\n",
    "    count = count+1\n",
    "print(count)"
   ]
  },
  {
   "cell_type": "code",
   "execution_count": 1,
   "metadata": {},
   "outputs": [],
   "source": [
    "a = \"python program\""
   ]
  },
  {
   "cell_type": "code",
   "execution_count": null,
   "metadata": {},
   "outputs": [],
   "source": [
    "a.count()"
   ]
  }
 ],
 "metadata": {
  "kernelspec": {
   "display_name": "Python 3 (ipykernel)",
   "language": "python",
   "name": "python3"
  },
  "language_info": {
   "codemirror_mode": {
    "name": "ipython",
    "version": 3
   },
   "file_extension": ".py",
   "mimetype": "text/x-python",
   "name": "python",
   "nbconvert_exporter": "python",
   "pygments_lexer": "ipython3",
   "version": "3.9.13"
  }
 },
 "nbformat": 4,
 "nbformat_minor": 4
}
