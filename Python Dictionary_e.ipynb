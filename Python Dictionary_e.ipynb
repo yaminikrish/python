{
 "cells": [
  {
   "cell_type": "markdown",
   "metadata": {},
   "source": [
    "<a href=\"https://www.viharatech.com\"><img src=\"https://miro.medium.com/v2/resize:fit:828/format:webp/1*on2Bpj6A5gfd-CzaFOAZRA.jpeg\"></a>\n"
   ]
  },
  {
   "cell_type": "code",
   "execution_count": 1,
   "metadata": {},
   "outputs": [
    {
     "data": {
      "text/plain": [
       "{}"
      ]
     },
     "execution_count": 1,
     "metadata": {},
     "output_type": "execute_result"
    }
   ],
   "source": [
    "a = {}\n",
    "a"
   ]
  },
  {
   "cell_type": "code",
   "execution_count": 2,
   "metadata": {},
   "outputs": [
    {
     "name": "stdout",
     "output_type": "stream",
     "text": [
      "<class 'set'>\n"
     ]
    }
   ],
   "source": [
    "a = {1,2,3,4}\n",
    "print(type(a))"
   ]
  },
  {
   "cell_type": "code",
   "execution_count": 3,
   "metadata": {},
   "outputs": [
    {
     "name": "stdout",
     "output_type": "stream",
     "text": [
      "{1: 10, 2: 20, 3: 30}\n",
      "<class 'dict'>\n"
     ]
    }
   ],
   "source": [
    "#a = (10 , 20 , 30)\n",
    "a = {1 : 10 , 2 : 20 , 3 : 30}\n",
    "print(a)\n",
    "print(type(a))"
   ]
  },
  {
   "cell_type": "code",
   "execution_count": 1,
   "metadata": {},
   "outputs": [
    {
     "name": "stdout",
     "output_type": "stream",
     "text": [
      "{'mm': 40, 'b': 10, 'ch': 20}\n"
     ]
    }
   ],
   "source": [
    "f = {'mm': 40, 'b': 10, 'ch': 20}\n",
    "print(f)"
   ]
  },
  {
   "cell_type": "code",
   "execution_count": 4,
   "metadata": {},
   "outputs": [
    {
     "name": "stdout",
     "output_type": "stream",
     "text": [
      "[1, 2, 3, 4, 5, 6, 7, 8, 9]\n",
      "[1, 2, 3, 4, 5, 6, 7, 8, 9]\n"
     ]
    }
   ],
   "source": [
    "a = []\n",
    "for i in range(1 , 10):\n",
    "    a.append(i)\n",
    "print(a)\n",
    "b = []\n",
    "for j in range(1 , 10):\n",
    "    b.append(j)\n",
    "print(b)"
   ]
  },
  {
   "cell_type": "code",
   "execution_count": 6,
   "metadata": {},
   "outputs": [
    {
     "data": {
      "text/plain": [
       "{'a_value': [1, 2, 3, 4, 5, 6, 7, 8, 9],\n",
       " 'b_value': [1, 2, 3, 4, 5, 6, 7, 8, 9]}"
      ]
     },
     "execution_count": 6,
     "metadata": {},
     "output_type": "execute_result"
    }
   ],
   "source": [
    "c = ({\"a_value\" : a , 'b_value' : b})\n",
    "c"
   ]
  },
  {
   "cell_type": "code",
   "execution_count": 2,
   "metadata": {},
   "outputs": [
    {
     "name": "stdout",
     "output_type": "stream",
     "text": [
      "{'x': [1, 2, 3, 4], 'y': 'Hello Python', 'z': 4.0}\n"
     ]
    }
   ],
   "source": [
    "mydict = {'x':[1,2,3,4], 'y':\"Hello Python\", 'z':4.0}\n",
    "print(mydict)"
   ]
  },
  {
   "cell_type": "code",
   "execution_count": 2,
   "metadata": {},
   "outputs": [
    {
     "name": "stdout",
     "output_type": "stream",
     "text": [
      "{'watermelon': 40, 'kiwi': 10, 'chiku': 20}\n"
     ]
    }
   ],
   "source": [
    "#another way to create dictionary\n",
    "# declaring an empty dictionary\n",
    "fruit = {}\n",
    "\n",
    "# adding key-value pairs to dictionary\n",
    "fruit['watermelon'] = 40\n",
    "fruit['kiwi'] = 10\n",
    "fruit['chiku'] = 20\n",
    "\n",
    "print(fruit)"
   ]
  },
  {
   "cell_type": "code",
   "execution_count": 9,
   "metadata": {},
   "outputs": [
    {
     "name": "stdout",
     "output_type": "stream",
     "text": [
      "dict_keys(['watermelon', 'kiwi', 'chiku'])\n",
      "dict_values([40, 10, 20])\n"
     ]
    }
   ],
   "source": [
    "fruit = {'watermelon':40, 'kiwi':10, 'chiku':20}\n",
    "print(fruit.keys())\n",
    "print(fruit.values())"
   ]
  },
  {
   "cell_type": "code",
   "execution_count": 10,
   "metadata": {},
   "outputs": [
    {
     "name": "stdout",
     "output_type": "stream",
     "text": [
      "{'mango': 60, 'banana': 10, 'cherry': 20}\n"
     ]
    }
   ],
   "source": [
    "#Rules for Creating Python Dictionary\n",
    "#Keys must be unique.\n",
    "fruit = {'mango':40,'banana':10,'cherry':20, 'mango':60}\n",
    "print(fruit)"
   ]
  },
  {
   "cell_type": "code",
   "execution_count": 1,
   "metadata": {},
   "outputs": [
    {
     "name": "stdout",
     "output_type": "stream",
     "text": [
      "{'mango': 40, 'banana': 20, 'cherry': 20}\n"
     ]
    }
   ],
   "source": [
    "fruit = {'mango':40,'banana':20,'cherry':20}\n",
    "print(fruit)"
   ]
  },
  {
   "cell_type": "code",
   "execution_count": 15,
   "metadata": {},
   "outputs": [
    {
     "name": "stdout",
     "output_type": "stream",
     "text": [
      "{'mango': 40, 'banana': 20, (1, 2): 20}\n"
     ]
    }
   ],
   "source": [
    "#Keys should be some immutable data type.\n",
    "fruit = {'mango':40, 'banana':20, (1, 2):20} #(1,2) -> tuple (immutable)\n",
    "print(fruit)"
   ]
  },
  {
   "cell_type": "code",
   "execution_count": null,
   "metadata": {},
   "outputs": [],
   "source": [
    "#Accessing Elements from Python Dictionary"
   ]
  },
  {
   "cell_type": "code",
   "execution_count": 6,
   "metadata": {},
   "outputs": [
    {
     "name": "stdout",
     "output_type": "stream",
     "text": [
      "40\n",
      "10\n"
     ]
    }
   ],
   "source": [
    "fruit = {'mango':40,'banana':10}\n",
    "print(fruit['mango'])\n",
    "print(fruit['banana'])"
   ]
  },
  {
   "cell_type": "code",
   "execution_count": 7,
   "metadata": {},
   "outputs": [
    {
     "name": "stdout",
     "output_type": "stream",
     "text": [
      "40\n",
      "10\n"
     ]
    }
   ],
   "source": [
    "fruit = {'mango':40,'banana':10}\n",
    "print(fruit.get('mango'))\n",
    "print(fruit.get('banana'))"
   ]
  },
  {
   "cell_type": "code",
   "execution_count": 7,
   "metadata": {},
   "outputs": [
    {
     "name": "stdout",
     "output_type": "stream",
     "text": [
      "None\n"
     ]
    },
    {
     "ename": "KeyError",
     "evalue": "'cherry'",
     "output_type": "error",
     "traceback": [
      "\u001b[1;31m---------------------------------------------------------------------------\u001b[0m",
      "\u001b[1;31mKeyError\u001b[0m                                  Traceback (most recent call last)",
      "\u001b[1;32m<ipython-input-7-f74caea2b376>\u001b[0m in \u001b[0;36m<module>\u001b[1;34m\u001b[0m\n\u001b[0;32m      1\u001b[0m \u001b[0mfruit\u001b[0m \u001b[1;33m=\u001b[0m \u001b[1;33m{\u001b[0m\u001b[1;34m'mango'\u001b[0m\u001b[1;33m:\u001b[0m\u001b[1;36m40\u001b[0m\u001b[1;33m,\u001b[0m\u001b[1;34m'banana'\u001b[0m\u001b[1;33m:\u001b[0m\u001b[1;36m10\u001b[0m\u001b[1;33m}\u001b[0m\u001b[1;33m\u001b[0m\u001b[1;33m\u001b[0m\u001b[0m\n\u001b[0;32m      2\u001b[0m \u001b[0mprint\u001b[0m\u001b[1;33m(\u001b[0m\u001b[0mfruit\u001b[0m\u001b[1;33m.\u001b[0m\u001b[0mget\u001b[0m\u001b[1;33m(\u001b[0m\u001b[1;34m'cherry'\u001b[0m\u001b[1;33m)\u001b[0m\u001b[1;33m)\u001b[0m  \u001b[1;31m# returns None\u001b[0m\u001b[1;33m\u001b[0m\u001b[1;33m\u001b[0m\u001b[0m\n\u001b[1;32m----> 3\u001b[1;33m \u001b[0mprint\u001b[0m\u001b[1;33m(\u001b[0m\u001b[0mfruit\u001b[0m\u001b[1;33m[\u001b[0m\u001b[1;34m'cherry'\u001b[0m\u001b[1;33m]\u001b[0m\u001b[1;33m)\u001b[0m  \u001b[1;31m# throws an error\u001b[0m\u001b[1;33m\u001b[0m\u001b[1;33m\u001b[0m\u001b[0m\n\u001b[0m",
      "\u001b[1;31mKeyError\u001b[0m: 'cherry'"
     ]
    }
   ],
   "source": [
    "fruit = {'mango':40,'banana':10}\n",
    "print(fruit.get('cherry'))  # returns None\n",
    "print(fruit['cherry'])  # throws an error"
   ]
  },
  {
   "cell_type": "code",
   "execution_count": 1,
   "metadata": {},
   "outputs": [
    {
     "name": "stdout",
     "output_type": "stream",
     "text": [
      "50\n"
     ]
    }
   ],
   "source": [
    "fruit = {\"mango\": 40, \"banana\": 10}\n",
    "print(fruit.get(\"cherry\", 50))\n"
   ]
  },
  {
   "cell_type": "code",
   "execution_count": 2,
   "metadata": {},
   "outputs": [
    {
     "data": {
      "text/plain": [
       "{'mango': 40, 'banana': 10}"
      ]
     },
     "execution_count": 2,
     "metadata": {},
     "output_type": "execute_result"
    }
   ],
   "source": [
    "fruit"
   ]
  },
  {
   "cell_type": "code",
   "execution_count": 10,
   "metadata": {},
   "outputs": [
    {
     "name": "stdout",
     "output_type": "stream",
     "text": [
      "{'name': 'ashu', 'age': 50}\n"
     ]
    }
   ],
   "source": [
    "#Changing Elements of Python Dictionary\n",
    "mydict = {'name': 'ashu', 'age': 30}\n",
    "mydict['age'] = 50  # changing value\n",
    "print(mydict)  # printing changed dictionary"
   ]
  },
  {
   "cell_type": "code",
   "execution_count": 11,
   "metadata": {},
   "outputs": [
    {
     "name": "stdout",
     "output_type": "stream",
     "text": [
      "{'name': 'ashu', 'age': 50}\n"
     ]
    }
   ],
   "source": [
    "mydict = {'name': 'ashu', 'age': 30}\n",
    "mydict.update(age = 50)  # changing value\n",
    "print(mydict)  # printing changed dictionary"
   ]
  },
  {
   "cell_type": "code",
   "execution_count": 12,
   "metadata": {},
   "outputs": [
    {
     "name": "stdout",
     "output_type": "stream",
     "text": [
      "{'name': 'ashu', 'age': 45, 'gender': 'female'}\n"
     ]
    }
   ],
   "source": [
    "#Adding Elements to Python Dictionary\n",
    "mydict = {'name': 'ashu', 'age': 45}\n",
    "mydict['gender'] = 'female'  # adding a new key-value pair\n",
    "print(mydict)  # printing changed dictionary"
   ]
  },
  {
   "cell_type": "code",
   "execution_count": 13,
   "metadata": {},
   "outputs": [
    {
     "name": "stdout",
     "output_type": "stream",
     "text": [
      "{'name': 'ashu', 'gender': 'female'}\n"
     ]
    }
   ],
   "source": [
    "#Deleting Elements from Python Dictionary\n",
    "mydict = {'name': 'ashu', 'age': 45, 'gender': 'female'}\n",
    "del mydict['age']  # deleting element with key 'age'\n",
    "print(mydict)  # printing changed dictionary"
   ]
  },
  {
   "cell_type": "code",
   "execution_count": 3,
   "metadata": {},
   "outputs": [
    {
     "ename": "NameError",
     "evalue": "name 'mydict' is not defined",
     "output_type": "error",
     "traceback": [
      "\u001b[1;31m---------------------------------------------------------------------------\u001b[0m",
      "\u001b[1;31mNameError\u001b[0m                                 Traceback (most recent call last)",
      "\u001b[1;32m<ipython-input-3-04f8669aff39>\u001b[0m in \u001b[0;36m<module>\u001b[1;34m\u001b[0m\n\u001b[0;32m      1\u001b[0m \u001b[0mmydict\u001b[0m \u001b[1;33m=\u001b[0m \u001b[1;33m{\u001b[0m\u001b[1;34m'name'\u001b[0m\u001b[1;33m:\u001b[0m \u001b[1;34m'ashu'\u001b[0m\u001b[1;33m,\u001b[0m \u001b[1;34m'age'\u001b[0m\u001b[1;33m:\u001b[0m \u001b[1;36m45\u001b[0m\u001b[1;33m,\u001b[0m \u001b[1;34m'gender'\u001b[0m\u001b[1;33m:\u001b[0m \u001b[1;34m'female'\u001b[0m\u001b[1;33m}\u001b[0m\u001b[1;33m\u001b[0m\u001b[1;33m\u001b[0m\u001b[0m\n\u001b[0;32m      2\u001b[0m \u001b[1;32mdel\u001b[0m \u001b[0mmydict\u001b[0m  \u001b[1;31m# deleting dictionary\u001b[0m\u001b[1;33m\u001b[0m\u001b[1;33m\u001b[0m\u001b[0m\n\u001b[1;32m----> 3\u001b[1;33m \u001b[0mprint\u001b[0m\u001b[1;33m(\u001b[0m\u001b[0mmydict\u001b[0m\u001b[1;33m)\u001b[0m  \u001b[1;31m# printing dictionary after deleting it\u001b[0m\u001b[1;33m\u001b[0m\u001b[1;33m\u001b[0m\u001b[0m\n\u001b[0m",
      "\u001b[1;31mNameError\u001b[0m: name 'mydict' is not defined"
     ]
    }
   ],
   "source": [
    "mydict = {'name': 'ashu', 'age': 45, 'gender': 'female'}\n",
    "del mydict  # deleting dictionary\n",
    "print(mydict)  # printing dictionary after deleting it"
   ]
  },
  {
   "cell_type": "code",
   "execution_count": 16,
   "metadata": {},
   "outputs": [
    {
     "name": "stdout",
     "output_type": "stream",
     "text": [
      "[1, 2, 3]\n"
     ]
    }
   ],
   "source": [
    "a = [1,2,3,4]\n",
    "a.pop()\n",
    "print(a)"
   ]
  },
  {
   "cell_type": "code",
   "execution_count": 18,
   "metadata": {},
   "outputs": [
    {
     "name": "stdout",
     "output_type": "stream",
     "text": [
      "female\n",
      "{'name': 'ashu', 'age': 45}\n"
     ]
    }
   ],
   "source": [
    "#python pop\n",
    "mydict = {'name': 'ashu', 'age': 45, 'gender': 'female'}\n",
    "print(mydict.pop(\"gender\"))  # removing element with key 'age' and printing its value\n",
    "print(mydict)  # printing updated dictionary"
   ]
  },
  {
   "cell_type": "code",
   "execution_count": 11,
   "metadata": {},
   "outputs": [
    {
     "ename": "TypeError",
     "evalue": "pop expected at least 1 arguments, got 0",
     "output_type": "error",
     "traceback": [
      "\u001b[1;31m---------------------------------------------------------------------------\u001b[0m",
      "\u001b[1;31mTypeError\u001b[0m                                 Traceback (most recent call last)",
      "\u001b[1;32m<ipython-input-11-2922be6ffad0>\u001b[0m in \u001b[0;36m<module>\u001b[1;34m\u001b[0m\n\u001b[0;32m      1\u001b[0m \u001b[0mmydict\u001b[0m \u001b[1;33m=\u001b[0m \u001b[1;33m{\u001b[0m\u001b[1;34m'name'\u001b[0m\u001b[1;33m:\u001b[0m \u001b[1;34m'ashu'\u001b[0m\u001b[1;33m,\u001b[0m \u001b[1;34m'age'\u001b[0m\u001b[1;33m:\u001b[0m \u001b[1;36m45\u001b[0m\u001b[1;33m,\u001b[0m \u001b[1;34m'gender'\u001b[0m\u001b[1;33m:\u001b[0m \u001b[1;34m'female'\u001b[0m\u001b[1;33m}\u001b[0m\u001b[1;33m\u001b[0m\u001b[1;33m\u001b[0m\u001b[0m\n\u001b[1;32m----> 2\u001b[1;33m \u001b[0mprint\u001b[0m\u001b[1;33m(\u001b[0m\u001b[0mmydict\u001b[0m\u001b[1;33m.\u001b[0m\u001b[0mpop\u001b[0m\u001b[1;33m(\u001b[0m\u001b[1;33m)\u001b[0m\u001b[1;33m)\u001b[0m\u001b[1;33m\u001b[0m\u001b[1;33m\u001b[0m\u001b[0m\n\u001b[0m",
      "\u001b[1;31mTypeError\u001b[0m: pop expected at least 1 arguments, got 0"
     ]
    }
   ],
   "source": [
    "mydict = {'name': 'ashu', 'age': 45, 'gender': 'female'}\n",
    "print(mydict.pop())"
   ]
  },
  {
   "cell_type": "code",
   "execution_count": 19,
   "metadata": {},
   "outputs": [
    {
     "name": "stdout",
     "output_type": "stream",
     "text": [
      "('gender', 'female')\n",
      "{'name': 'ashu', 'age': 45}\n"
     ]
    }
   ],
   "source": [
    "#Python popitem()\n",
    "mydict = {'name': 'ashu', 'age': 45, 'gender': 'female'}\n",
    "print(mydict.popitem())  # removing the last element and printing its key-value pair\n",
    "print(mydict)  # printing updated dictionary"
   ]
  },
  {
   "cell_type": "code",
   "execution_count": 20,
   "metadata": {},
   "outputs": [
    {
     "name": "stdout",
     "output_type": "stream",
     "text": [
      "[]\n"
     ]
    }
   ],
   "source": [
    "a = [1,2,3]\n",
    "a.clear()\n",
    "print(a)"
   ]
  },
  {
   "cell_type": "code",
   "execution_count": 17,
   "metadata": {},
   "outputs": [
    {
     "name": "stdout",
     "output_type": "stream",
     "text": [
      "{}\n"
     ]
    }
   ],
   "source": [
    "mydict = {'name': 'ashu', 'age': 45, 'gender': 'female'}\n",
    "mydict.clear()  # removing all element from dictionary\n",
    "print(mydict)  # printing updated dictionary"
   ]
  },
  {
   "cell_type": "code",
   "execution_count": 8,
   "metadata": {},
   "outputs": [
    {
     "name": "stdout",
     "output_type": "stream",
     "text": [
      "True\n",
      "False\n",
      "False\n"
     ]
    }
   ],
   "source": [
    "#Python Dictionary Operations\n",
    "#Dictionary Membership Test #only applicaable for keys not values\n",
    "mydict = {1: 1, 2: 8, 3: 27, 4: 64}\n",
    "print(2 in mydict)\n",
    "print(5 in mydict)\n",
    "print(4 not in mydict)"
   ]
  },
  {
   "cell_type": "code",
   "execution_count": 18,
   "metadata": {},
   "outputs": [
    {
     "name": "stdout",
     "output_type": "stream",
     "text": [
      "False\n"
     ]
    }
   ],
   "source": [
    "mydict = {1: 1, 2: 8, 3: 27, 4: 64}\n",
    "print(8 in mydict)  # 8 is not a key"
   ]
  },
  {
   "cell_type": "code",
   "execution_count": 20,
   "metadata": {},
   "outputs": [
    {
     "name": "stdout",
     "output_type": "stream",
     "text": [
      "key = name\n",
      "value = ashu\n",
      "key = age\n",
      "value = 45\n",
      "key = gender\n",
      "value = female\n"
     ]
    }
   ],
   "source": [
    "#Looping Through Keys\n",
    "mydict = {'name': 'ashu', 'age': 45, 'gender': 'female'}\n",
    "for k in mydict:\n",
    "    print(\"key =\", k)\n",
    "    print(\"value =\", mydict[k])"
   ]
  },
  {
   "cell_type": "code",
   "execution_count": 14,
   "metadata": {},
   "outputs": [
    {
     "name": "stdout",
     "output_type": "stream",
     "text": [
      "value = name\n",
      "value = age\n",
      "value = gender\n"
     ]
    }
   ],
   "source": [
    "#Looping Through Values\n",
    "mydict = {'name': 'ashu', 'age': 45, 'gender': 'female'}\n",
    "for v in mydict.keys():\n",
    "    print(\"value =\", v)"
   ]
  },
  {
   "cell_type": "code",
   "execution_count": 15,
   "metadata": {},
   "outputs": [
    {
     "name": "stdout",
     "output_type": "stream",
     "text": [
      "value = ashu\n",
      "value = 45\n",
      "value = female\n"
     ]
    }
   ],
   "source": [
    "#Looping Through Values\n",
    "mydict = {'name': 'ashu', 'age': 45, 'gender': 'female'}\n",
    "for v in mydict.values():\n",
    "    print(\"value =\", v)"
   ]
  },
  {
   "cell_type": "code",
   "execution_count": 16,
   "metadata": {},
   "outputs": [
    {
     "name": "stdout",
     "output_type": "stream",
     "text": [
      "value = ('name', 'ashu')\n",
      "value = ('age', 45)\n",
      "value = ('gender', 'female')\n"
     ]
    }
   ],
   "source": [
    "#Looping Through Values\n",
    "mydict = {'name': 'ashu', 'age': 45, 'gender': 'female'}\n",
    "for v in mydict.items():\n",
    "    print(\"value =\", v)"
   ]
  },
  {
   "cell_type": "code",
   "execution_count": 17,
   "metadata": {},
   "outputs": [
    {
     "name": "stdout",
     "output_type": "stream",
     "text": [
      "key = name\n",
      "value = ashu\n",
      "key = age\n",
      "value = 45\n",
      "key = gender\n",
      "value = female\n"
     ]
    }
   ],
   "source": [
    "#Looping Through Keys and Values\n",
    "mydict = {'name': 'ashu', 'age': 45, 'gender': 'female'}\n",
    "for k, v in mydict.items():\n",
    "    print(\"key =\", k)\n",
    "    print(\"value =\", v)"
   ]
  },
  {
   "cell_type": "code",
   "execution_count": 21,
   "metadata": {},
   "outputs": [
    {
     "name": "stdout",
     "output_type": "stream",
     "text": [
      "1\n",
      "2\n"
     ]
    }
   ],
   "source": [
    "a = {1 : 'python' , 2 : \"java\"}\n",
    "for i in a.keys():\n",
    "    print(i)"
   ]
  },
  {
   "cell_type": "code",
   "execution_count": 22,
   "metadata": {},
   "outputs": [
    {
     "name": "stdout",
     "output_type": "stream",
     "text": [
      "python\n",
      "java\n"
     ]
    }
   ],
   "source": [
    "a = {1 : 'python' , 2 : \"java\"}\n",
    "for i in a.values():\n",
    "    print(i)"
   ]
  },
  {
   "cell_type": "code",
   "execution_count": 23,
   "metadata": {},
   "outputs": [
    {
     "name": "stdout",
     "output_type": "stream",
     "text": [
      "(1, 'python')\n",
      "(2, 'java')\n"
     ]
    }
   ],
   "source": [
    "a = {1 : 'python' , 2 : \"java\"}\n",
    "for i in a.items():\n",
    "    print(i)"
   ]
  },
  {
   "cell_type": "code",
   "execution_count": 9,
   "metadata": {},
   "outputs": [
    {
     "name": "stdout",
     "output_type": "stream",
     "text": [
      "{}\n"
     ]
    }
   ],
   "source": [
    "mydict = {}\n",
    "print(mydict)"
   ]
  },
  {
   "cell_type": "code",
   "execution_count": 10,
   "metadata": {},
   "outputs": [
    {
     "name": "stdout",
     "output_type": "stream",
     "text": [
      "{'name': 'ashu', 'age': 45, 'gender': 'female'}\n"
     ]
    }
   ],
   "source": [
    "mydict = dict(name = 'ashu', age = 45, gender = 'female')\n",
    "print(mydict)"
   ]
  },
  {
   "cell_type": "code",
   "execution_count": 23,
   "metadata": {},
   "outputs": [
    {
     "name": "stdout",
     "output_type": "stream",
     "text": [
      "{'a': 20, 'b': 10, 'c': [1, 2, 3]}\n"
     ]
    }
   ],
   "source": [
    "#Simple Assignment\n",
    "dict1 = {'a': 20, 'b': 10, 'c': [1, 2, 3]}\n",
    "dict2 = dict1\n",
    "print(dict2)"
   ]
  },
  {
   "cell_type": "code",
   "execution_count": 24,
   "metadata": {},
   "outputs": [
    {
     "name": "stdout",
     "output_type": "stream",
     "text": [
      "Original dictionary: {'a': 20, 'b': 30, 'c': [1, 2, 3, 4]}\n",
      "New dictionary: {'a': 20, 'b': 30, 'c': [1, 2, 3, 4]}\n"
     ]
    }
   ],
   "source": [
    "dict1 = {'a': 20, 'b': 10, 'c': [1, 2, 3]}\n",
    "dict2 = dict1\n",
    "dict2['b'] = 30\n",
    "dict2['c'] = [1, 2, 3, 4]\n",
    "print(\"Original dictionary:\", dict1)\n",
    "print(\"New dictionary:\", dict2)"
   ]
  },
  {
   "cell_type": "code",
   "execution_count": 25,
   "metadata": {},
   "outputs": [
    {
     "name": "stdout",
     "output_type": "stream",
     "text": [
      "Original dictionary: {'a': 20, 'b': 10, 'c': [1, 2, 3]}\n",
      "New dictionary: {'a': 20, 'b': 30, 'c': [1, 2, 3, 4]}\n"
     ]
    }
   ],
   "source": [
    "#Python copy()\n",
    "dict1 = {'a': 20, 'b': 10, 'c': [1, 2, 3]}\n",
    "dict2 = dict1.copy()\n",
    "dict2['b'] = 30\n",
    "dict2['c'] = [1, 2, 3, 4]\n",
    "print(\"Original dictionary:\", dict1)\n",
    "print(\"New dictionary:\", dict2)"
   ]
  },
  {
   "cell_type": "code",
   "execution_count": 26,
   "metadata": {},
   "outputs": [
    {
     "name": "stdout",
     "output_type": "stream",
     "text": [
      "Original dictionary: {'a': 20, 'b': 10, 'c': [1, 2, 3]}\n",
      "New dictionary: {'a': 20, 'b': 30, 'c': [1, 2, 3, 4]}\n"
     ]
    }
   ],
   "source": [
    "#Python dict()\n",
    "dict1 = {'a': 20, 'b': 10, 'c': [1, 2, 3]}\n",
    "dict2 = dict(dict1)\n",
    "dict2['b'] = 30\n",
    "dict2['c'] = [1, 2, 3, 4]\n",
    "print(\"Original dictionary:\", dict1)\n",
    "print(\"New dictionary:\", dict2)"
   ]
  },
  {
   "cell_type": "code",
   "execution_count": 27,
   "metadata": {},
   "outputs": [
    {
     "name": "stdout",
     "output_type": "stream",
     "text": [
      "3\n"
     ]
    }
   ],
   "source": [
    "#Built-in Functions in Python for Dictionary\n",
    "mydict = {'name': 'ashu', 'age': 45, 'gender': 'female'}\n",
    "print(len(mydict))"
   ]
  },
  {
   "cell_type": "code",
   "execution_count": 30,
   "metadata": {},
   "outputs": [
    {
     "name": "stdout",
     "output_type": "stream",
     "text": [
      "['age', 'gender', 'name']\n"
     ]
    }
   ],
   "source": [
    "mydict = {'name': 'ashu', 'age': 45, 'gender': 'female'}\n",
    "print(sorted(mydict))"
   ]
  },
  {
   "cell_type": "code",
   "execution_count": 32,
   "metadata": {},
   "outputs": [
    {
     "data": {
      "text/plain": [
       "{2: 'ashu', 1: 45, 3: 'female'}"
      ]
     },
     "execution_count": 32,
     "metadata": {},
     "output_type": "execute_result"
    }
   ],
   "source": [
    "mydict = {2: 'ashu', 1: 45, 3: 'female'}\n",
    "mydict"
   ]
  },
  {
   "cell_type": "code",
   "execution_count": 25,
   "metadata": {},
   "outputs": [
    {
     "name": "stdout",
     "output_type": "stream",
     "text": [
      "dict_keys([2, 1, 3])\n",
      "[3, 2, 1]\n"
     ]
    }
   ],
   "source": [
    "mydict = {2: 'ashu', 1: 45, 3: 'female'}  # keys \n",
    "print(mydict.keys())\n",
    "print(sorted(mydict, reverse=True))"
   ]
  },
  {
   "cell_type": "code",
   "execution_count": 33,
   "metadata": {},
   "outputs": [
    {
     "name": "stdout",
     "output_type": "stream",
     "text": [
      "[3, 2, 1]\n"
     ]
    }
   ],
   "source": [
    "mydict = {2: 'ashu', 1: 45, 3: 'female'}\n",
    "print(sorted(mydict, reverse=True))"
   ]
  },
  {
   "cell_type": "code",
   "execution_count": 37,
   "metadata": {},
   "outputs": [
    {
     "name": "stdout",
     "output_type": "stream",
     "text": [
      "dict_keys(['name', 'age', 'gender'])\n"
     ]
    }
   ],
   "source": [
    "mydict = {'name': 'ashu', 'age': 45, 'gender': 'female'}\n",
    "print(mydict.keys())"
   ]
  },
  {
   "cell_type": "code",
   "execution_count": 38,
   "metadata": {},
   "outputs": [
    {
     "name": "stdout",
     "output_type": "stream",
     "text": [
      "dict_values(['ashu', 45, 'female'])\n"
     ]
    }
   ],
   "source": [
    "mydict = {'name': 'ashu', 'age': 45, 'gender': 'female'}\n",
    "print(mydict.values())"
   ]
  },
  {
   "cell_type": "code",
   "execution_count": 39,
   "metadata": {},
   "outputs": [
    {
     "name": "stdout",
     "output_type": "stream",
     "text": [
      "dict_items([('name', 'ashu'), ('age', 45), ('gender', 'female')])\n"
     ]
    }
   ],
   "source": [
    "mydict = {'name': 'ashu', 'age': 45, 'gender': 'female'}\n",
    "print(mydict.items())"
   ]
  }
 ],
 "metadata": {
  "kernelspec": {
   "display_name": "Python 3 (ipykernel)",
   "language": "python",
   "name": "python3"
  },
  "language_info": {
   "codemirror_mode": {
    "name": "ipython",
    "version": 3
   },
   "file_extension": ".py",
   "mimetype": "text/x-python",
   "name": "python",
   "nbconvert_exporter": "python",
   "pygments_lexer": "ipython3",
   "version": "3.9.13"
  }
 },
 "nbformat": 4,
 "nbformat_minor": 4
}
